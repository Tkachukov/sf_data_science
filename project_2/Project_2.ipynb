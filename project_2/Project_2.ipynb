{
  "cells": [
    {
      "cell_type": "markdown",
      "id": "42289889-bd57-434e-9637-d3e354756316",
      "metadata": {
        "id": "42289889-bd57-434e-9637-d3e354756316"
      },
      "source": [
        "<center> <img src = https://raw.githubusercontent.com/AndreyRysistov/DatasetsForPandas/main/hh%20label.jpg alt=\"drawing\" style=\"width:400px;\">"
      ]
    },
    {
      "cell_type": "markdown",
      "id": "829cb75b-f14e-4ba8-9195-7ba929a7d656",
      "metadata": {
        "id": "829cb75b-f14e-4ba8-9195-7ba929a7d656",
        "tags": []
      },
      "source": [
        "# <center> Проект: Анализ вакансий из HeadHunter\n",
        "   "
      ]
    },
    {
      "cell_type": "code",
      "execution_count": 1,
      "id": "dccfde33-2452-43fb-a8a5-5c6ebc02a71d",
      "metadata": {
        "id": "dccfde33-2452-43fb-a8a5-5c6ebc02a71d"
      },
      "outputs": [],
      "source": [
        "import pandas as pd\n",
        "import psycopg2"
      ]
    },
    {
      "cell_type": "code",
      "execution_count": 75,
      "id": "G4X_q8KBf7SF",
      "metadata": {
        "id": "G4X_q8KBf7SF"
      },
      "outputs": [],
      "source": [
        "connection = psycopg2.connect('[ДАННЫЕ УДАЛЕНЫ]')"
      ]
    },
    {
      "cell_type": "markdown",
      "id": "0dc6476b-7a00-44f1-ac93-6e3baed33a29",
      "metadata": {
        "id": "0dc6476b-7a00-44f1-ac93-6e3baed33a29"
      },
      "source": [
        "# Юнит 3. Предварительный анализ данных"
      ]
    },
    {
      "cell_type": "markdown",
      "id": "889782b6-8d1c-410e-8920-e57f27917c64",
      "metadata": {
        "id": "889782b6-8d1c-410e-8920-e57f27917c64"
      },
      "source": [
        "1. Напишите запрос, который посчитает количество вакансий в нашей базе (вакансии находятся в таблице vacancies). "
      ]
    },
    {
      "cell_type": "code",
      "execution_count": 3,
      "id": "bc39e68e-ed02-4ee2-9235-7258a2f867a8",
      "metadata": {
        "id": "bc39e68e-ed02-4ee2-9235-7258a2f867a8"
      },
      "outputs": [
        {
          "name": "stderr",
          "output_type": "stream",
          "text": [
            "C:\\Users\\Dmitriy\\AppData\\Local\\Temp\\ipykernel_2892\\1620135908.py:5: UserWarning: pandas only supports SQLAlchemy connectable (engine/connection) or database string URI or sqlite3 DBAPI2 connection. Other DBAPI2 objects are not tested. Please consider using SQLAlchemy.\n",
            "  pd.read_sql_query(query, connection)\n"
          ]
        },
        {
          "data": {
            "text/html": [
              "<div>\n",
              "<style scoped>\n",
              "    .dataframe tbody tr th:only-of-type {\n",
              "        vertical-align: middle;\n",
              "    }\n",
              "\n",
              "    .dataframe tbody tr th {\n",
              "        vertical-align: top;\n",
              "    }\n",
              "\n",
              "    .dataframe thead th {\n",
              "        text-align: right;\n",
              "    }\n",
              "</style>\n",
              "<table border=\"1\" class=\"dataframe\">\n",
              "  <thead>\n",
              "    <tr style=\"text-align: right;\">\n",
              "      <th></th>\n",
              "      <th>count</th>\n",
              "    </tr>\n",
              "  </thead>\n",
              "  <tbody>\n",
              "    <tr>\n",
              "      <th>0</th>\n",
              "      <td>49197</td>\n",
              "    </tr>\n",
              "  </tbody>\n",
              "</table>\n",
              "</div>"
            ],
            "text/plain": [
              "   count\n",
              "0  49197"
            ]
          },
          "execution_count": 3,
          "metadata": {},
          "output_type": "execute_result"
        }
      ],
      "source": [
        "query_3_1 = f'''SELECT COUNT(*) \n",
        "           FROM public.vacancies\n",
        "        '''\n",
        "        \n",
        "pd.read_sql_query(query_3_1, connection)"
      ]
    },
    {
      "cell_type": "markdown",
      "id": "7mAwtsk4hEHY",
      "metadata": {
        "id": "7mAwtsk4hEHY"
      },
      "source": [
        "Всего в базе данных содержится информация о 49 197 вакансиях. В последующих расчётах я буду округлять это значение до тысяч (49 000 вакансий)."
      ]
    },
    {
      "cell_type": "markdown",
      "id": "b583485d-1f9e-494e-ada4-80ffff7c53d6",
      "metadata": {
        "id": "b583485d-1f9e-494e-ada4-80ffff7c53d6"
      },
      "source": [
        "2. Напишите запрос, который посчитает количество работодателей (таблица employers). "
      ]
    },
    {
      "cell_type": "code",
      "execution_count": 5,
      "id": "5408c52c-3407-4a63-b25b-1aafa2322d28",
      "metadata": {
        "id": "5408c52c-3407-4a63-b25b-1aafa2322d28"
      },
      "outputs": [
        {
          "name": "stderr",
          "output_type": "stream",
          "text": [
            "C:\\Users\\Dmitriy\\AppData\\Local\\Temp\\ipykernel_2892\\275374076.py:5: UserWarning: pandas only supports SQLAlchemy connectable (engine/connection) or database string URI or sqlite3 DBAPI2 connection. Other DBAPI2 objects are not tested. Please consider using SQLAlchemy.\n",
            "  pd.read_sql_query(query, connection)\n"
          ]
        },
        {
          "data": {
            "text/html": [
              "<div>\n",
              "<style scoped>\n",
              "    .dataframe tbody tr th:only-of-type {\n",
              "        vertical-align: middle;\n",
              "    }\n",
              "\n",
              "    .dataframe tbody tr th {\n",
              "        vertical-align: top;\n",
              "    }\n",
              "\n",
              "    .dataframe thead th {\n",
              "        text-align: right;\n",
              "    }\n",
              "</style>\n",
              "<table border=\"1\" class=\"dataframe\">\n",
              "  <thead>\n",
              "    <tr style=\"text-align: right;\">\n",
              "      <th></th>\n",
              "      <th>count</th>\n",
              "    </tr>\n",
              "  </thead>\n",
              "  <tbody>\n",
              "    <tr>\n",
              "      <th>0</th>\n",
              "      <td>23501</td>\n",
              "    </tr>\n",
              "  </tbody>\n",
              "</table>\n",
              "</div>"
            ],
            "text/plain": [
              "   count\n",
              "0  23501"
            ]
          },
          "execution_count": 5,
          "metadata": {},
          "output_type": "execute_result"
        }
      ],
      "source": [
        "query_3_2 = f'''SELECT COUNT(*) \n",
        "           FROM public.employers\n",
        "        '''\n",
        "        \n",
        "pd.read_sql_query(query_3_2, connection)"
      ]
    },
    {
      "attachments": {},
      "cell_type": "markdown",
      "id": "jVL4eshKhdqc",
      "metadata": {
        "id": "jVL4eshKhdqc"
      },
      "source": [
        "В базе данных содержится информация о вакансиях, принадлежащих 23 501 работодателю. В последующих расчётах я также буду округлять это значение до тысяч (24 000 работодателей)."
      ]
    },
    {
      "cell_type": "markdown",
      "id": "a2bfff1f-c975-4bf6-84be-2185d79dcb76",
      "metadata": {
        "id": "a2bfff1f-c975-4bf6-84be-2185d79dcb76"
      },
      "source": [
        "3. Посчитате с помощью запроса количество регионов (таблица areas)."
      ]
    },
    {
      "cell_type": "code",
      "execution_count": 7,
      "id": "1m8QJwBYhey6",
      "metadata": {
        "id": "1m8QJwBYhey6"
      },
      "outputs": [
        {
          "name": "stderr",
          "output_type": "stream",
          "text": [
            "C:\\Users\\Dmitriy\\AppData\\Local\\Temp\\ipykernel_2892\\87212700.py:5: UserWarning: pandas only supports SQLAlchemy connectable (engine/connection) or database string URI or sqlite3 DBAPI2 connection. Other DBAPI2 objects are not tested. Please consider using SQLAlchemy.\n",
            "  pd.read_sql_query(query, connection)\n"
          ]
        },
        {
          "data": {
            "text/html": [
              "<div>\n",
              "<style scoped>\n",
              "    .dataframe tbody tr th:only-of-type {\n",
              "        vertical-align: middle;\n",
              "    }\n",
              "\n",
              "    .dataframe tbody tr th {\n",
              "        vertical-align: top;\n",
              "    }\n",
              "\n",
              "    .dataframe thead th {\n",
              "        text-align: right;\n",
              "    }\n",
              "</style>\n",
              "<table border=\"1\" class=\"dataframe\">\n",
              "  <thead>\n",
              "    <tr style=\"text-align: right;\">\n",
              "      <th></th>\n",
              "      <th>count</th>\n",
              "    </tr>\n",
              "  </thead>\n",
              "  <tbody>\n",
              "    <tr>\n",
              "      <th>0</th>\n",
              "      <td>1362</td>\n",
              "    </tr>\n",
              "  </tbody>\n",
              "</table>\n",
              "</div>"
            ],
            "text/plain": [
              "   count\n",
              "0   1362"
            ]
          },
          "execution_count": 7,
          "metadata": {},
          "output_type": "execute_result"
        }
      ],
      "source": [
        "query_3_3 = f'''SELECT COUNT(*) \n",
        "           FROM public.areas\n",
        "        '''\n",
        "        \n",
        "pd.read_sql_query(query_3_3, connection)"
      ]
    },
    {
      "cell_type": "markdown",
      "id": "EZsn9tlfhe7f",
      "metadata": {
        "id": "EZsn9tlfhe7f"
      },
      "source": [
        "В базе данных содержится информация о вакансиях из 1362 регионов. В дальнейшем я буду округлять это значение до сотен (1400 регионов)."
      ]
    },
    {
      "cell_type": "markdown",
      "id": "41bb59f3-53cc-4a67-a5bc-bedf573955e4",
      "metadata": {
        "id": "41bb59f3-53cc-4a67-a5bc-bedf573955e4"
      },
      "source": [
        "4. Посчитате с помощью запроса количество сфер деятельности в базе (таблица industries)."
      ]
    },
    {
      "cell_type": "code",
      "execution_count": 9,
      "id": "d286cf4c-707b-4cd2-9190-7ab3587d04a1",
      "metadata": {
        "id": "d286cf4c-707b-4cd2-9190-7ab3587d04a1"
      },
      "outputs": [
        {
          "name": "stderr",
          "output_type": "stream",
          "text": [
            "C:\\Users\\Dmitriy\\AppData\\Local\\Temp\\ipykernel_2892\\1260782755.py:5: UserWarning: pandas only supports SQLAlchemy connectable (engine/connection) or database string URI or sqlite3 DBAPI2 connection. Other DBAPI2 objects are not tested. Please consider using SQLAlchemy.\n",
            "  pd.read_sql_query(query, connection)\n"
          ]
        },
        {
          "data": {
            "text/html": [
              "<div>\n",
              "<style scoped>\n",
              "    .dataframe tbody tr th:only-of-type {\n",
              "        vertical-align: middle;\n",
              "    }\n",
              "\n",
              "    .dataframe tbody tr th {\n",
              "        vertical-align: top;\n",
              "    }\n",
              "\n",
              "    .dataframe thead th {\n",
              "        text-align: right;\n",
              "    }\n",
              "</style>\n",
              "<table border=\"1\" class=\"dataframe\">\n",
              "  <thead>\n",
              "    <tr style=\"text-align: right;\">\n",
              "      <th></th>\n",
              "      <th>count</th>\n",
              "    </tr>\n",
              "  </thead>\n",
              "  <tbody>\n",
              "    <tr>\n",
              "      <th>0</th>\n",
              "      <td>294</td>\n",
              "    </tr>\n",
              "  </tbody>\n",
              "</table>\n",
              "</div>"
            ],
            "text/plain": [
              "   count\n",
              "0    294"
            ]
          },
          "execution_count": 9,
          "metadata": {},
          "output_type": "execute_result"
        }
      ],
      "source": [
        "query_3_4 = f'''SELECT COUNT(*) \n",
        "           FROM public.industries\n",
        "        '''\n",
        "        \n",
        "pd.read_sql_query(query_3_4, connection)"
      ]
    },
    {
      "cell_type": "markdown",
      "id": "JYAaoZ4qhfzW",
      "metadata": {
        "id": "JYAaoZ4qhfzW"
      },
      "source": [
        "В базе данных содержится информация о вакансиях, относящихся к 294 сферам деятельности. В дальнейшем я буду округлять это значение до сотен (300 сфер деятельности)."
      ]
    },
    {
      "cell_type": "markdown",
      "id": "9a8a2181-6914-448b-85f1-38f5f18b8a93",
      "metadata": {
        "id": "9a8a2181-6914-448b-85f1-38f5f18b8a93"
      },
      "source": [
        "***"
      ]
    },
    {
      "attachments": {},
      "cell_type": "markdown",
      "id": "be4e9bd3-a4db-4a20-82fb-6b02fc2957e0",
      "metadata": {
        "id": "be4e9bd3-a4db-4a20-82fb-6b02fc2957e0"
      },
      "source": [
        "## Вывод по Юниту 3\n",
        "\n",
        "Итак, в исследуемой базе данных содержатся сведения о 49 тысячах индивидуальных вакансий, принадлежащих 23 тысячам работодателей,\n",
        "и относящихся к почти трём сотням сфер деятельности. Если при создании данной выборки вакансий не было допущено каких-то намеренных\n",
        "искажений, она должна быть достаточно репрезентативна, чтобы на её основании делать адекватные реальности суждения\n",
        "о ситуации на интернет-рынке рабочих мест."
      ]
    },
    {
      "cell_type": "markdown",
      "id": "8d62a9f3-f64e-4fe7-bdac-c4dffa16155e",
      "metadata": {
        "id": "8d62a9f3-f64e-4fe7-bdac-c4dffa16155e"
      },
      "source": [
        "# Юнит 4. Детальный анализ вакансий"
      ]
    },
    {
      "attachments": {},
      "cell_type": "markdown",
      "id": "93053d3d-b284-481a-9cf7-012d7014c0e0",
      "metadata": {
        "id": "93053d3d-b284-481a-9cf7-012d7014c0e0"
      },
      "source": [
        "1. Напишите запрос, который позволит узнать, сколько () вакансий в каждом регионе (area).\n",
        "Отсортируйте по количеству вакансий в порядке убывания."
      ]
    },
    {
      "cell_type": "code",
      "execution_count": 68,
      "id": "3f069da6-fdc9-4ae7-b514-fafe2675efd3",
      "metadata": {
        "id": "3f069da6-fdc9-4ae7-b514-fafe2675efd3"
      },
      "outputs": [
        {
          "name": "stderr",
          "output_type": "stream",
          "text": [
            "C:\\Users\\Dmitriy\\AppData\\Local\\Temp\\ipykernel_2892\\148310811.py:9: UserWarning: pandas only supports SQLAlchemy connectable (engine/connection) or database string URI or sqlite3 DBAPI2 connection. Other DBAPI2 objects are not tested. Please consider using SQLAlchemy.\n",
            "  result = pd.read_sql_query(query_1, connection)\n"
          ]
        },
        {
          "data": {
            "text/html": [
              "<div>\n",
              "<style scoped>\n",
              "    .dataframe tbody tr th:only-of-type {\n",
              "        vertical-align: middle;\n",
              "    }\n",
              "\n",
              "    .dataframe tbody tr th {\n",
              "        vertical-align: top;\n",
              "    }\n",
              "\n",
              "    .dataframe thead th {\n",
              "        text-align: right;\n",
              "    }\n",
              "</style>\n",
              "<table border=\"1\" class=\"dataframe\">\n",
              "  <thead>\n",
              "    <tr style=\"text-align: right;\">\n",
              "      <th></th>\n",
              "      <th>count</th>\n",
              "      <th>name</th>\n",
              "    </tr>\n",
              "  </thead>\n",
              "  <tbody>\n",
              "    <tr>\n",
              "      <th>0</th>\n",
              "      <td>5333</td>\n",
              "      <td>Москва</td>\n",
              "    </tr>\n",
              "    <tr>\n",
              "      <th>1</th>\n",
              "      <td>2851</td>\n",
              "      <td>Санкт-Петербург</td>\n",
              "    </tr>\n",
              "    <tr>\n",
              "      <th>2</th>\n",
              "      <td>2112</td>\n",
              "      <td>Минск</td>\n",
              "    </tr>\n",
              "    <tr>\n",
              "      <th>3</th>\n",
              "      <td>2006</td>\n",
              "      <td>Новосибирск</td>\n",
              "    </tr>\n",
              "    <tr>\n",
              "      <th>4</th>\n",
              "      <td>1892</td>\n",
              "      <td>Алматы</td>\n",
              "    </tr>\n",
              "    <tr>\n",
              "      <th>5</th>\n",
              "      <td>1698</td>\n",
              "      <td>Екатеринбург</td>\n",
              "    </tr>\n",
              "    <tr>\n",
              "      <th>6</th>\n",
              "      <td>1670</td>\n",
              "      <td>Нижний Новгород</td>\n",
              "    </tr>\n",
              "    <tr>\n",
              "      <th>7</th>\n",
              "      <td>1415</td>\n",
              "      <td>Казань</td>\n",
              "    </tr>\n",
              "    <tr>\n",
              "      <th>8</th>\n",
              "      <td>1301</td>\n",
              "      <td>Краснодар</td>\n",
              "    </tr>\n",
              "    <tr>\n",
              "      <th>9</th>\n",
              "      <td>1144</td>\n",
              "      <td>Самара</td>\n",
              "    </tr>\n",
              "  </tbody>\n",
              "</table>\n",
              "</div>"
            ],
            "text/plain": [
              "   count             name\n",
              "0   5333           Москва\n",
              "1   2851  Санкт-Петербург\n",
              "2   2112            Минск\n",
              "3   2006      Новосибирск\n",
              "4   1892           Алматы\n",
              "5   1698     Екатеринбург\n",
              "6   1670  Нижний Новгород\n",
              "7   1415           Казань\n",
              "8   1301        Краснодар\n",
              "9   1144           Самара"
            ]
          },
          "execution_count": 68,
          "metadata": {},
          "output_type": "execute_result"
        }
      ],
      "source": [
        "query_4_1 = '''SELECT COUNT(v.id), a.name\n",
        "            FROM public.vacancies v\n",
        "            JOIN public.areas a ON v.area_id = a.id\n",
        "            GROUP BY a.name\n",
        "            ORDER BY 1 DESC\n",
        "            LIMIT 10\n",
        "            '''\n",
        "            \n",
        "result = pd.read_sql_query(query_4_1, connection)\n",
        "\n",
        "result"
      ]
    },
    {
      "attachments": {},
      "cell_type": "markdown",
      "id": "P7QL86hrjhRJ",
      "metadata": {
        "id": "P7QL86hrjhRJ"
      },
      "source": [
        "Разумеется, работать с количеством вакансий в каждом из всех четырнадцати сотен регионов, представленных таблице, будет практически невозможно.\n",
        "Поэтому я представил в вывде только первые десять (по убыванию количества вакансий) регионов. В данной базе данных это: Москва, Санкт-Петербург, Минск, Новосибирск, Алматы, Екатеринбург, Нижний Новгород, Казань, Краснодар, Самара. Тремя самыми \"богатыми\" на вакансии среди них являются Москва (5333 вакансии), Санкт-Петербург (2851 вакансия) и Минск (2112 вакансий);замыкают же этот топ-десять Казань (1415 вакансий), Краснодар (1301 вакансия) и Самара (1144 вакансии)."
      ]
    },
    {
      "cell_type": "markdown",
      "id": "4266f0b6-1646-492a-88b4-2f6a46502135",
      "metadata": {
        "id": "4266f0b6-1646-492a-88b4-2f6a46502135"
      },
      "source": [
        "2. Напишите запрос, чтобы определить у какого количества вакансий заполнено хотя бы одно из двух полей с зарплатой."
      ]
    },
    {
      "cell_type": "code",
      "execution_count": 13,
      "id": "0c44b350-72eb-4d65-8b54-a1fc449ba9fd",
      "metadata": {
        "id": "0c44b350-72eb-4d65-8b54-a1fc449ba9fd"
      },
      "outputs": [
        {
          "name": "stderr",
          "output_type": "stream",
          "text": [
            "C:\\Users\\Dmitriy\\AppData\\Local\\Temp\\ipykernel_2892\\2741981258.py:7: UserWarning: pandas only supports SQLAlchemy connectable (engine/connection) or database string URI or sqlite3 DBAPI2 connection. Other DBAPI2 objects are not tested. Please consider using SQLAlchemy.\n",
            "  result = pd.read_sql_query(query_2, connection)\n"
          ]
        },
        {
          "data": {
            "text/html": [
              "<div>\n",
              "<style scoped>\n",
              "    .dataframe tbody tr th:only-of-type {\n",
              "        vertical-align: middle;\n",
              "    }\n",
              "\n",
              "    .dataframe tbody tr th {\n",
              "        vertical-align: top;\n",
              "    }\n",
              "\n",
              "    .dataframe thead th {\n",
              "        text-align: right;\n",
              "    }\n",
              "</style>\n",
              "<table border=\"1\" class=\"dataframe\">\n",
              "  <thead>\n",
              "    <tr style=\"text-align: right;\">\n",
              "      <th></th>\n",
              "      <th>count</th>\n",
              "    </tr>\n",
              "  </thead>\n",
              "  <tbody>\n",
              "    <tr>\n",
              "      <th>0</th>\n",
              "      <td>24073</td>\n",
              "    </tr>\n",
              "  </tbody>\n",
              "</table>\n",
              "</div>"
            ],
            "text/plain": [
              "   count\n",
              "0  24073"
            ]
          },
          "execution_count": 13,
          "metadata": {},
          "output_type": "execute_result"
        }
      ],
      "source": [
        "query_4_2 = '''SELECT COUNT(*)\n",
        "            FROM public.vacancies v\n",
        "            WHERE v.salary_from IS NOT NULL \n",
        "                  OR v.salary_to IS NOT NULL\n",
        "            '''\n",
        "            \n",
        "result = pd.read_sql_query(query_4_2, connection)\n",
        "\n",
        "result"
      ]
    },
    {
      "attachments": {},
      "cell_type": "markdown",
      "id": "rhvwaMDkoWTi",
      "metadata": {
        "id": "rhvwaMDkoWTi"
      },
      "source": [
        "Хотя бы одно из двух полей с зарплатой заполнено у 24 073 вакансий, что можно округлить до 24 000 вакансий."
      ]
    },
    {
      "cell_type": "markdown",
      "id": "635c4d5d-f323-4c66-b428-50a088120aa0",
      "metadata": {
        "id": "635c4d5d-f323-4c66-b428-50a088120aa0"
      },
      "source": [
        "3. Найдите средние значения для нижней и верхней границы зарплатной вилки. Округлите значения до целого."
      ]
    },
    {
      "cell_type": "code",
      "execution_count": 69,
      "id": "603cdbe4-0ec3-4106-8eaf-c73fcdd29165",
      "metadata": {
        "id": "603cdbe4-0ec3-4106-8eaf-c73fcdd29165"
      },
      "outputs": [
        {
          "name": "stderr",
          "output_type": "stream",
          "text": [
            "C:\\Users\\Dmitriy\\AppData\\Local\\Temp\\ipykernel_2892\\1039421947.py:7: UserWarning: pandas only supports SQLAlchemy connectable (engine/connection) or database string URI or sqlite3 DBAPI2 connection. Other DBAPI2 objects are not tested. Please consider using SQLAlchemy.\n",
            "  result = pd.read_sql_query(query_3, connection)\n"
          ]
        },
        {
          "data": {
            "text/html": [
              "<div>\n",
              "<style scoped>\n",
              "    .dataframe tbody tr th:only-of-type {\n",
              "        vertical-align: middle;\n",
              "    }\n",
              "\n",
              "    .dataframe tbody tr th {\n",
              "        vertical-align: top;\n",
              "    }\n",
              "\n",
              "    .dataframe thead th {\n",
              "        text-align: right;\n",
              "    }\n",
              "</style>\n",
              "<table border=\"1\" class=\"dataframe\">\n",
              "  <thead>\n",
              "    <tr style=\"text-align: right;\">\n",
              "      <th></th>\n",
              "      <th>round</th>\n",
              "      <th>round</th>\n",
              "    </tr>\n",
              "  </thead>\n",
              "  <tbody>\n",
              "    <tr>\n",
              "      <th>0</th>\n",
              "      <td>71065.0</td>\n",
              "      <td>110537.0</td>\n",
              "    </tr>\n",
              "  </tbody>\n",
              "</table>\n",
              "</div>"
            ],
            "text/plain": [
              "     round     round\n",
              "0  71065.0  110537.0"
            ]
          },
          "execution_count": 69,
          "metadata": {},
          "output_type": "execute_result"
        }
      ],
      "source": [
        "query_4_3 = '''SELECT \n",
        "                    ROUND(AVG(v.salary_from)),\n",
        "                    ROUND(AVG(v.salary_to))\n",
        "            FROM public.vacancies v\n",
        "            '''\n",
        "            \n",
        "result = pd.read_sql_query(query_4_3, connection)\n",
        "\n",
        "result"
      ]
    },
    {
      "attachments": {},
      "cell_type": "markdown",
      "id": "pswpAb66ovZZ",
      "metadata": {
        "id": "pswpAb66ovZZ"
      },
      "source": [
        "Среднее значение нижней границы заработной вилки в базе данных составляет 71 065 рублей.\n",
        "Среднее значение ;же верхней границы - 110 537 рублей."
      ]
    },
    {
      "cell_type": "markdown",
      "id": "f3fdaec9-5fd3-4260-9cf5-1d7406b628a5",
      "metadata": {
        "id": "f3fdaec9-5fd3-4260-9cf5-1d7406b628a5"
      },
      "source": [
        "4. Напишите запрос, который выведет количество вакансий для каждого сочетания типа рабочего графика (schedule) и типа трудоустройства (employment), используемого в вакансиях. Результат отсортируйте по убыванию количества.\n"
      ]
    },
    {
      "cell_type": "code",
      "execution_count": 17,
      "id": "1ea710ec-871b-431e-9462-c7d0fd87011b",
      "metadata": {
        "id": "1ea710ec-871b-431e-9462-c7d0fd87011b"
      },
      "outputs": [
        {
          "name": "stderr",
          "output_type": "stream",
          "text": [
            "C:\\Users\\Dmitriy\\AppData\\Local\\Temp\\ipykernel_2892\\128273891.py:13: UserWarning: pandas only supports SQLAlchemy connectable (engine/connection) or database string URI or sqlite3 DBAPI2 connection. Other DBAPI2 objects are not tested. Please consider using SQLAlchemy.\n",
            "  result = pd.read_sql_query(query_4, connection)\n"
          ]
        },
        {
          "data": {
            "text/html": [
              "<div>\n",
              "<style scoped>\n",
              "    .dataframe tbody tr th:only-of-type {\n",
              "        vertical-align: middle;\n",
              "    }\n",
              "\n",
              "    .dataframe tbody tr th {\n",
              "        vertical-align: top;\n",
              "    }\n",
              "\n",
              "    .dataframe thead th {\n",
              "        text-align: right;\n",
              "    }\n",
              "</style>\n",
              "<table border=\"1\" class=\"dataframe\">\n",
              "  <thead>\n",
              "    <tr style=\"text-align: right;\">\n",
              "      <th></th>\n",
              "      <th>count</th>\n",
              "      <th>schedule</th>\n",
              "      <th>employment</th>\n",
              "    </tr>\n",
              "  </thead>\n",
              "  <tbody>\n",
              "    <tr>\n",
              "      <th>0</th>\n",
              "      <td>35367</td>\n",
              "      <td>Полный день</td>\n",
              "      <td>Полная занятость</td>\n",
              "    </tr>\n",
              "    <tr>\n",
              "      <th>1</th>\n",
              "      <td>7802</td>\n",
              "      <td>Удаленная работа</td>\n",
              "      <td>Полная занятость</td>\n",
              "    </tr>\n",
              "    <tr>\n",
              "      <th>2</th>\n",
              "      <td>1593</td>\n",
              "      <td>Гибкий график</td>\n",
              "      <td>Полная занятость</td>\n",
              "    </tr>\n",
              "    <tr>\n",
              "      <th>3</th>\n",
              "      <td>1312</td>\n",
              "      <td>Удаленная работа</td>\n",
              "      <td>Частичная занятость</td>\n",
              "    </tr>\n",
              "    <tr>\n",
              "      <th>4</th>\n",
              "      <td>940</td>\n",
              "      <td>Сменный график</td>\n",
              "      <td>Полная занятость</td>\n",
              "    </tr>\n",
              "  </tbody>\n",
              "</table>\n",
              "</div>"
            ],
            "text/plain": [
              "   count          schedule           employment\n",
              "0  35367       Полный день     Полная занятость\n",
              "1   7802  Удаленная работа     Полная занятость\n",
              "2   1593     Гибкий график     Полная занятость\n",
              "3   1312  Удаленная работа  Частичная занятость\n",
              "4    940    Сменный график     Полная занятость"
            ]
          },
          "execution_count": 17,
          "metadata": {},
          "output_type": "execute_result"
        }
      ],
      "source": [
        "query_4_4 = '''SELECT \n",
        "                    COUNT(*),\n",
        "                    v.schedule,\n",
        "                    v.employment\n",
        "            FROM public.vacancies v\n",
        "            GROUP BY \n",
        "                     v.schedule,\n",
        "                     v.employment\n",
        "            ORDER BY 1 DESC\n",
        "            LIMIT 5\n",
        "            '''\n",
        "            \n",
        "result = pd.read_sql_query(query_4_4, connection)\n",
        "\n",
        "result"
      ]
    },
    {
      "attachments": {},
      "cell_type": "markdown",
      "id": "lGUVqavdo4JQ",
      "metadata": {
        "id": "lGUVqavdo4JQ"
      },
      "source": [
        "Комбинации типов рабочего графика и трудоустройства и соответствующее им количество вакансий в базе данных: Полный день/Полная занятость (35 367 вакансий), Удалённая работа/Полная занятость (7802 вакансии), Гибкий график/Полная занятость (1593 вакансии), Удалённая работа/Частичная занятость (1312 вакансий) и Сменный график/Полная занятость (940 вакансий)."
      ]
    },
    {
      "cell_type": "markdown",
      "id": "0136ffee-0ead-4a6b-b608-61d1c753a438",
      "metadata": {
        "id": "0136ffee-0ead-4a6b-b608-61d1c753a438"
      },
      "source": [
        "5. Напишите запрос, выводящий значения поля Требуемый опыт работы (experience) в порядке возрастания количества вакансий, в которых указан данный вариант опыта. "
      ]
    },
    {
      "cell_type": "code",
      "execution_count": 19,
      "id": "5b3a8e79-f7ab-4008-b767-12aea3a205ea",
      "metadata": {
        "id": "5b3a8e79-f7ab-4008-b767-12aea3a205ea"
      },
      "outputs": [
        {
          "name": "stderr",
          "output_type": "stream",
          "text": [
            "C:\\Users\\Dmitriy\\AppData\\Local\\Temp\\ipykernel_2892\\452533958.py:9: UserWarning: pandas only supports SQLAlchemy connectable (engine/connection) or database string URI or sqlite3 DBAPI2 connection. Other DBAPI2 objects are not tested. Please consider using SQLAlchemy.\n",
            "  result = pd.read_sql_query(query_5, connection)\n"
          ]
        },
        {
          "data": {
            "text/html": [
              "<div>\n",
              "<style scoped>\n",
              "    .dataframe tbody tr th:only-of-type {\n",
              "        vertical-align: middle;\n",
              "    }\n",
              "\n",
              "    .dataframe tbody tr th {\n",
              "        vertical-align: top;\n",
              "    }\n",
              "\n",
              "    .dataframe thead th {\n",
              "        text-align: right;\n",
              "    }\n",
              "</style>\n",
              "<table border=\"1\" class=\"dataframe\">\n",
              "  <thead>\n",
              "    <tr style=\"text-align: right;\">\n",
              "      <th></th>\n",
              "      <th>count</th>\n",
              "      <th>experience</th>\n",
              "    </tr>\n",
              "  </thead>\n",
              "  <tbody>\n",
              "    <tr>\n",
              "      <th>0</th>\n",
              "      <td>1337</td>\n",
              "      <td>Более 6 лет</td>\n",
              "    </tr>\n",
              "    <tr>\n",
              "      <th>1</th>\n",
              "      <td>7197</td>\n",
              "      <td>Нет опыта</td>\n",
              "    </tr>\n",
              "    <tr>\n",
              "      <th>2</th>\n",
              "      <td>14511</td>\n",
              "      <td>От 3 до 6 лет</td>\n",
              "    </tr>\n",
              "    <tr>\n",
              "      <th>3</th>\n",
              "      <td>26152</td>\n",
              "      <td>От 1 года до 3 лет</td>\n",
              "    </tr>\n",
              "  </tbody>\n",
              "</table>\n",
              "</div>"
            ],
            "text/plain": [
              "   count          experience\n",
              "0   1337         Более 6 лет\n",
              "1   7197           Нет опыта\n",
              "2  14511       От 3 до 6 лет\n",
              "3  26152  От 1 года до 3 лет"
            ]
          },
          "execution_count": 19,
          "metadata": {},
          "output_type": "execute_result"
        }
      ],
      "source": [
        "query_4_5 = '''SELECT \n",
        "                    COUNT(*),\n",
        "                    v.experience\n",
        "            FROM public.vacancies v\n",
        "            GROUP BY v.experience\n",
        "            ORDER BY 1 ASC\n",
        "            '''\n",
        "            \n",
        "result = pd.read_sql_query(query_4_5, connection)\n",
        "\n",
        "result"
      ]
    },
    {
      "attachments": {},
      "cell_type": "markdown",
      "id": "3Is64Y-hpDpq",
      "metadata": {
        "id": "3Is64Y-hpDpq"
      },
      "source": [
        "Категории опыта соискателей, представленные в вакансиях, по возрастанию: Самая редкая - \"Более 6 лет\" (1337 вакансий), затем категория \"Нет опыта\" (7197 вакансий), затем \"От 3 до 6 лет\" (14 511 вакансий), и наконец, наиболее представленная в базе данных категория - \"От 1 года до 3 лет\" (26 152 вакансии)."
      ]
    },
    {
      "cell_type": "markdown",
      "id": "oq2b7n1QpIka",
      "metadata": {
        "id": "oq2b7n1QpIka"
      },
      "source": [
        "***"
      ]
    },
    {
      "attachments": {},
      "cell_type": "markdown",
      "id": "e91f87ed-e25c-4f96-9f92-b642e8c0b4fa",
      "metadata": {
        "id": "e91f87ed-e25c-4f96-9f92-b642e8c0b4fa"
      },
      "source": [
        "## Выводы по Юниту 4\n",
        "\n",
        "Регион-\"чемпион\" по количеству вакансий, лидирующий с двукратным отрывом по сравнению со следующим за ним регионом - это Москва.\n",
        "Ничего аномального в этом нет - это естественное следствие статуса Москвы как столицы, крупнейшего города и центра экономической\n",
        "жизни России. Можно сделать вывод, что выборка вакансий, содержавшаяся в исходной БД, адекватно отражает экономическую и демографическую структуру РФ, а значит, является репрезентативной для анализа каких-либо закономерностей на интернет-рынке труда страны.\n",
        "\n",
        "Примечательным является отсутствие указанной заработной платы у больше, чем половины всех вакансий из имеющихся \n",
        "(хотя бы одна граница диапазона возможной заработной платы указана у 24 тысяч вакансий при том, что всего их в базе данных содержится 49 тысяч).\n",
        "Можно предположить, что в данный момент времени работодатели предпочитали договариваться с новыми специалистами о заработной плате в индивидуальном порядке на самом собеседовании. Скорее всего, в момент заполнения базы данных общий уровень зарплат специалистов на рынке труда вырос по какой-то причине, но большинство работодателей было не в состоянии повысить зарплату уже работавшему у них персоналу, поэтому им пришлось предлагать повышенную зарплату новым специалистам, но не афишировать это публично, чтобы не демотивировать тех, кто уже работал на них. Посмотрим на среднюю предлагаемую зарплату в тех вакансиях, для которых она указана, чтобы проверить это предположение.\n",
        "\n",
        "Средние нижняя и верхняя границы указываемой работодателями заработной платы в вакнсиях в момент заполнения базы данных составляли 71 тысячу и \n",
        "110.5 тысяч рублей соответственно. Следовательно, средняя предлагаемая заработная плата на момент заполнения базы данных составляла \n",
        "(71 + 110.5) / 2 = примерно 90.8 тысяч рублей. В настоящий момент (апрель 2023) средняя предлагаемая заработная плата на сайте hh.ru составляет \n",
        "58.3 тысячи рублей, что почти на треть меньше, чем аналогичный показатель на момент заполнения базы данных. Учитывая большое количество вакансий без указания заработной платы (см. абзац выше) разумно будет предположить, что средняя предлагаемая зарплата на настоящий момент примерно отражает норму, а средний уровень предлагаемой в вакансиях зарплаты на момент заполнения базы данных являлся аномально повышенным по какой-то причине.\n",
        "\n",
        "Абсолютное большинство вакансий - почти три четверти из представленных в базе - требуют полной занятости в течение полного дня, что неудивительно,\n",
        "так как всё ещё является стандартным и распространённым способом занятости. Стоит, однако, отметить, что стремительный рост популярности в настоящий момент удалённой работы нашёл своё отражение в данных - около 19 процентов всех вакансий в базе данных рассчитаны на \"удалёнку\", при этом в среднем одна из девяти вакансий, рассчитанных на удалённую работу,также предполагает частичную занятость. А вот вакансии, предполагаяющие гибкий или сменный график, популярностью у работодателей не пользуются - обе эти категории вместе составляют всего несколько процентов от общего объёма выборки.\n",
        "\n",
        "Большинство (чуть больше половины, 53%) вакансий в базе расчитаны на соискателей с опытом работы от одного года до трёх лет. Вторая по популярности у работодателей категория опыта соискателей - от трёх до шести лет (на неё рассчитаны чуть меньше трети от всех вакансий в базе). Интересно, что вакансий, рассчитанных на самых опытных работников (с опытом работы более шести лет) в выборке меньше всего - всего лишь несколько процентов от общего числа вакансий. Скорее всего, это связано с тем, что настолько опытных специалистов большинству работодателей обычно требуется очень небольшое количество. На людей без опыта работы рассчитано около одной седьмой от всех вакансий. "
      ]
    },
    {
      "cell_type": "markdown",
      "id": "7ea20ab6-04a7-40a0-adec-443a0e5a42c3",
      "metadata": {
        "id": "7ea20ab6-04a7-40a0-adec-443a0e5a42c3"
      },
      "source": [
        "# Юнит 5. Анализ работодателей"
      ]
    },
    {
      "cell_type": "markdown",
      "id": "968aed80-74ef-4ffb-b5bf-c65b84e9caea",
      "metadata": {
        "id": "968aed80-74ef-4ffb-b5bf-c65b84e9caea"
      },
      "source": [
        "1. Напишите запрос, который позволит узнать, какие работодатели находятся на первом и пятом месте по количеству вакансий."
      ]
    },
    {
      "cell_type": "code",
      "execution_count": 21,
      "id": "f2d62796-d400-4ec1-a675-88112739a50e",
      "metadata": {
        "id": "f2d62796-d400-4ec1-a675-88112739a50e"
      },
      "outputs": [
        {
          "name": "stderr",
          "output_type": "stream",
          "text": [
            "C:\\Users\\Dmitriy\\AppData\\Local\\Temp\\ipykernel_2892\\645678260.py:21: UserWarning: pandas only supports SQLAlchemy connectable (engine/connection) or database string URI or sqlite3 DBAPI2 connection. Other DBAPI2 objects are not tested. Please consider using SQLAlchemy.\n",
            "  result = pd.read_sql_query(query_6, connection)\n"
          ]
        },
        {
          "data": {
            "text/html": [
              "<div>\n",
              "<style scoped>\n",
              "    .dataframe tbody tr th:only-of-type {\n",
              "        vertical-align: middle;\n",
              "    }\n",
              "\n",
              "    .dataframe tbody tr th {\n",
              "        vertical-align: top;\n",
              "    }\n",
              "\n",
              "    .dataframe thead th {\n",
              "        text-align: right;\n",
              "    }\n",
              "</style>\n",
              "<table border=\"1\" class=\"dataframe\">\n",
              "  <thead>\n",
              "    <tr style=\"text-align: right;\">\n",
              "      <th></th>\n",
              "      <th>count</th>\n",
              "      <th>name</th>\n",
              "    </tr>\n",
              "  </thead>\n",
              "  <tbody>\n",
              "    <tr>\n",
              "      <th>0</th>\n",
              "      <td>1933</td>\n",
              "      <td>Яндекс</td>\n",
              "    </tr>\n",
              "    <tr>\n",
              "      <th>1</th>\n",
              "      <td>331</td>\n",
              "      <td>Газпром нефть</td>\n",
              "    </tr>\n",
              "  </tbody>\n",
              "</table>\n",
              "</div>"
            ],
            "text/plain": [
              "   count           name\n",
              "0   1933         Яндекс\n",
              "1    331  Газпром нефть"
            ]
          },
          "execution_count": 21,
          "metadata": {},
          "output_type": "execute_result"
        }
      ],
      "source": [
        "query_5_1 = '''(SELECT \n",
        "                    COUNT(*),\n",
        "                    e.name\n",
        "            FROM public.vacancies v\n",
        "            JOIN public.employers e ON v.employer_id = e.id\n",
        "            GROUP BY e.name\n",
        "            ORDER BY 1 DESC\n",
        "            LIMIT 1)\n",
        "            UNION ALL\n",
        "            (SELECT \n",
        "                    COUNT(*),\n",
        "                    e.name\n",
        "            FROM public.vacancies v\n",
        "            JOIN public.employers e ON v.employer_id = e.id\n",
        "            GROUP BY e.name\n",
        "            ORDER BY 1 DESC\n",
        "            OFFSET 4\n",
        "            LIMIT 1 )           \n",
        "            '''\n",
        "            \n",
        "result = pd.read_sql_query(query_5_1, connection)\n",
        "\n",
        "result"
      ]
    },
    {
      "cell_type": "markdown",
      "id": "64tOMkAxqkQk",
      "metadata": {
        "id": "64tOMkAxqkQk"
      },
      "source": [
        "На первом месте по количеству открытых вакансий находится \"Яндекс\". На пятом месте - \"Газпром нефть\"."
      ]
    },
    {
      "cell_type": "markdown",
      "id": "68377cfc-b378-43dc-ab7d-1195abf2c515",
      "metadata": {
        "id": "68377cfc-b378-43dc-ab7d-1195abf2c515"
      },
      "source": [
        "2. Напишите запрос, который для каждого региона выведет количество работодателей и вакансий в нём.\n",
        "Среди регионов, в которых нет вакансий, найдите тот, в котором наибольшее количество работодателей.\n"
      ]
    },
    {
      "cell_type": "code",
      "execution_count": 23,
      "id": "dd7df27a-e3e8-412e-a21a-5d389b71e891",
      "metadata": {
        "id": "dd7df27a-e3e8-412e-a21a-5d389b71e891"
      },
      "outputs": [
        {
          "name": "stderr",
          "output_type": "stream",
          "text": [
            "C:\\Users\\Dmitriy\\AppData\\Local\\Temp\\ipykernel_2892\\2302336104.py:20: UserWarning: pandas only supports SQLAlchemy connectable (engine/connection) or database string URI or sqlite3 DBAPI2 connection. Other DBAPI2 objects are not tested. Please consider using SQLAlchemy.\n",
            "  result = pd.read_sql_query(query_7, connection)\n"
          ]
        },
        {
          "data": {
            "text/html": [
              "<div>\n",
              "<style scoped>\n",
              "    .dataframe tbody tr th:only-of-type {\n",
              "        vertical-align: middle;\n",
              "    }\n",
              "\n",
              "    .dataframe tbody tr th {\n",
              "        vertical-align: top;\n",
              "    }\n",
              "\n",
              "    .dataframe thead th {\n",
              "        text-align: right;\n",
              "    }\n",
              "</style>\n",
              "<table border=\"1\" class=\"dataframe\">\n",
              "  <thead>\n",
              "    <tr style=\"text-align: right;\">\n",
              "      <th></th>\n",
              "      <th>name</th>\n",
              "      <th>count</th>\n",
              "    </tr>\n",
              "  </thead>\n",
              "  <tbody>\n",
              "    <tr>\n",
              "      <th>0</th>\n",
              "      <td>Россия</td>\n",
              "      <td>410</td>\n",
              "    </tr>\n",
              "  </tbody>\n",
              "</table>\n",
              "</div>"
            ],
            "text/plain": [
              "     name  count\n",
              "0  Россия    410"
            ]
          },
          "execution_count": 23,
          "metadata": {},
          "output_type": "execute_result"
        }
      ],
      "source": [
        "query_5_2 = '''WITH areas_vacancies AS\n",
        "             (SELECT a.name\n",
        "             FROM \n",
        "                  public.areas a\n",
        "                  LEFT JOIN public.vacancies v ON a.id = v.area_id\n",
        "             GROUP BY a.name\n",
        "             HAVING COUNT(DISTINCT v.id) = 0)\n",
        "             SELECT \n",
        "                    a.name,\n",
        "                    COUNT(e.id)\n",
        "             FROM\n",
        "                    public.areas a\n",
        "                    JOIN areas_vacancies temp ON temp.name = a.name\n",
        "                    JOIN public.employers e ON a.id = e.area\n",
        "             GROUP BY a.name\n",
        "             ORDER BY COUNT(e.id) DESC\n",
        "             LIMIT 1\n",
        "            '''\n",
        "            \n",
        "result = pd.read_sql_query(query_5_2, connection)\n",
        "\n",
        "result"
      ]
    },
    {
      "attachments": {},
      "cell_type": "markdown",
      "id": "x1ikWbydrbf6",
      "metadata": {
        "id": "x1ikWbydrbf6"
      },
      "source": [
        "Как можно увидеть, при создании структуры базы данных была допущена ошибка - в одной и той же таблице регионов содержится информация как о городах, так и о странах. Так как идентификатор региона в таблице вакансий, очевидно, был сделан на строго уровне городов, всем строкам в таблице регионов, в которых были указаны страны, не соответствует ни одной вакансии. Однако в таблице работодателей, по видимому, указывать страну в качестве региона можно. Из-за этого \"город\", в котором нет вакансий, но есть больше всего работодателей среди подобных \"городов\" - это Россия."
      ]
    },
    {
      "cell_type": "markdown",
      "id": "f2fe0acb-ab1a-4e15-9326-2560e22d73c1",
      "metadata": {
        "id": "f2fe0acb-ab1a-4e15-9326-2560e22d73c1"
      },
      "source": [
        "3. Для каждого работодателя посчитайте количество регионов, в которых он публикует свои вакансии. Отсортируйте результат по убыванию количества.\n"
      ]
    },
    {
      "cell_type": "code",
      "execution_count": 71,
      "id": "6271f8ad-bd2e-4196-ae4a-5b39c4c1010e",
      "metadata": {
        "id": "6271f8ad-bd2e-4196-ae4a-5b39c4c1010e"
      },
      "outputs": [
        {
          "name": "stderr",
          "output_type": "stream",
          "text": [
            "C:\\Users\\Dmitriy\\AppData\\Local\\Temp\\ipykernel_2892\\3776117416.py:12: UserWarning: pandas only supports SQLAlchemy connectable (engine/connection) or database string URI or sqlite3 DBAPI2 connection. Other DBAPI2 objects are not tested. Please consider using SQLAlchemy.\n",
            "  result = pd.read_sql_query(query_8, connection)\n"
          ]
        },
        {
          "data": {
            "text/html": [
              "<div>\n",
              "<style scoped>\n",
              "    .dataframe tbody tr th:only-of-type {\n",
              "        vertical-align: middle;\n",
              "    }\n",
              "\n",
              "    .dataframe tbody tr th {\n",
              "        vertical-align: top;\n",
              "    }\n",
              "\n",
              "    .dataframe thead th {\n",
              "        text-align: right;\n",
              "    }\n",
              "</style>\n",
              "<table border=\"1\" class=\"dataframe\">\n",
              "  <thead>\n",
              "    <tr style=\"text-align: right;\">\n",
              "      <th></th>\n",
              "      <th>name</th>\n",
              "      <th>area_count</th>\n",
              "    </tr>\n",
              "  </thead>\n",
              "  <tbody>\n",
              "    <tr>\n",
              "      <th>0</th>\n",
              "      <td>Яндекс</td>\n",
              "      <td>181</td>\n",
              "    </tr>\n",
              "    <tr>\n",
              "      <th>1</th>\n",
              "      <td>Ростелеком</td>\n",
              "      <td>152</td>\n",
              "    </tr>\n",
              "    <tr>\n",
              "      <th>2</th>\n",
              "      <td>Тинькофф</td>\n",
              "      <td>43</td>\n",
              "    </tr>\n",
              "    <tr>\n",
              "      <th>3</th>\n",
              "      <td>СБЕР</td>\n",
              "      <td>24</td>\n",
              "    </tr>\n",
              "    <tr>\n",
              "      <th>4</th>\n",
              "      <td>Газпром нефть</td>\n",
              "      <td>24</td>\n",
              "    </tr>\n",
              "    <tr>\n",
              "      <th>5</th>\n",
              "      <td>ИК СИБИНТЕК</td>\n",
              "      <td>46</td>\n",
              "    </tr>\n",
              "    <tr>\n",
              "      <th>6</th>\n",
              "      <td>МТС</td>\n",
              "      <td>55</td>\n",
              "    </tr>\n",
              "    <tr>\n",
              "      <th>7</th>\n",
              "      <td>DataArt</td>\n",
              "      <td>2</td>\n",
              "    </tr>\n",
              "    <tr>\n",
              "      <th>8</th>\n",
              "      <td>Совкомбанк Технологии</td>\n",
              "      <td>26</td>\n",
              "    </tr>\n",
              "    <tr>\n",
              "      <th>9</th>\n",
              "      <td>Первый Бит</td>\n",
              "      <td>43</td>\n",
              "    </tr>\n",
              "  </tbody>\n",
              "</table>\n",
              "</div>"
            ],
            "text/plain": [
              "                    name  area_count\n",
              "0                 Яндекс         181\n",
              "1             Ростелеком         152\n",
              "2               Тинькофф          43\n",
              "3                   СБЕР          24\n",
              "4          Газпром нефть          24\n",
              "5            ИК СИБИНТЕК          46\n",
              "6                    МТС          55\n",
              "7                DataArt           2\n",
              "8  Совкомбанк Технологии          26\n",
              "9             Первый Бит          43"
            ]
          },
          "execution_count": 71,
          "metadata": {},
          "output_type": "execute_result"
        }
      ],
      "source": [
        "query_5_3 = '''SELECT \n",
        "                    e.name,\n",
        "                    COUNT(DISTINCT v.area_id) area_count\n",
        "             FROM\n",
        "                    public.employers e\n",
        "                    JOIN public.vacancies v ON e.id = v.employer_id \n",
        "             GROUP BY e.name\n",
        "             ORDER BY COUNT(e.name) DESC\n",
        "             LIMIT 10\n",
        "            '''\n",
        "            \n",
        "result = pd.read_sql_query(query_5_3, connection)\n",
        "\n",
        "result"
      ]
    },
    {
      "attachments": {},
      "cell_type": "markdown",
      "id": "1EIvX3HasH4F",
      "metadata": {
        "id": "1EIvX3HasH4F"
      },
      "source": [
        "Топ-10 работодателей по количеству регионов, в которых они открывают свои вакансии, по убыванию: \"Яндекс\", \"Ростелеком\", \"Тинькофф\", \"СБЕР\", \"Газпром нефть\", \"ИК СИБИНТЕК\", \"МТС\", \"DataArt\", \"Совкомбанк Технологии\", \"Первый Бит\"."
      ]
    },
    {
      "cell_type": "markdown",
      "id": "eab2206d-d95b-468b-8e5f-34381abf0ce7",
      "metadata": {
        "id": "eab2206d-d95b-468b-8e5f-34381abf0ce7"
      },
      "source": [
        "4. Напишите запрос для подсчёта количества работодателей, у которых не указана сфера деятельности. "
      ]
    },
    {
      "cell_type": "code",
      "execution_count": 27,
      "id": "80defb23-bfb1-4a18-8be6-bf36aa7165d5",
      "metadata": {
        "id": "80defb23-bfb1-4a18-8be6-bf36aa7165d5"
      },
      "outputs": [
        {
          "name": "stderr",
          "output_type": "stream",
          "text": [
            "C:\\Users\\Dmitriy\\AppData\\Local\\Temp\\ipykernel_2892\\3089506585.py:8: UserWarning: pandas only supports SQLAlchemy connectable (engine/connection) or database string URI or sqlite3 DBAPI2 connection. Other DBAPI2 objects are not tested. Please consider using SQLAlchemy.\n",
            "  result = pd.read_sql_query(query_9, connection)\n"
          ]
        },
        {
          "data": {
            "text/html": [
              "<div>\n",
              "<style scoped>\n",
              "    .dataframe tbody tr th:only-of-type {\n",
              "        vertical-align: middle;\n",
              "    }\n",
              "\n",
              "    .dataframe tbody tr th {\n",
              "        vertical-align: top;\n",
              "    }\n",
              "\n",
              "    .dataframe thead th {\n",
              "        text-align: right;\n",
              "    }\n",
              "</style>\n",
              "<table border=\"1\" class=\"dataframe\">\n",
              "  <thead>\n",
              "    <tr style=\"text-align: right;\">\n",
              "      <th></th>\n",
              "      <th>count</th>\n",
              "    </tr>\n",
              "  </thead>\n",
              "  <tbody>\n",
              "    <tr>\n",
              "      <th>0</th>\n",
              "      <td>8419</td>\n",
              "    </tr>\n",
              "  </tbody>\n",
              "</table>\n",
              "</div>"
            ],
            "text/plain": [
              "   count\n",
              "0   8419"
            ]
          },
          "execution_count": 27,
          "metadata": {},
          "output_type": "execute_result"
        }
      ],
      "source": [
        "query_5_4 = '''SELECT COUNT(e.id)\n",
        "             FROM \n",
        "                  public.employers e\n",
        "                  LEFT JOIN public.employers_industries ei ON e.id = ei.employer_id\n",
        "             WHERE ei.employer_id IS NULL     \n",
        "            '''\n",
        "            \n",
        "result = pd.read_sql_query(query_5_4, connection)\n",
        "\n",
        "result"
      ]
    },
    {
      "attachments": {},
      "cell_type": "markdown",
      "id": "Dp_yCx6ysQSu",
      "metadata": {
        "id": "Dp_yCx6ysQSu"
      },
      "source": [
        "В базе данных сфера деятельности не указана у 8419 работодателей."
      ]
    },
    {
      "cell_type": "markdown",
      "id": "0112af31-f6b0-4e3b-82ab-71296e752e5e",
      "metadata": {
        "id": "0112af31-f6b0-4e3b-82ab-71296e752e5e"
      },
      "source": [
        "5. Напишите запрос, чтобы узнать название компании, находящейся на третьем месте в алфавитном списке (по названию) компаний, у которых указано четыре сферы деятельности. "
      ]
    },
    {
      "cell_type": "code",
      "execution_count": 29,
      "id": "973b0cfc-a972-470a-8b4a-68744ef220c4",
      "metadata": {
        "id": "973b0cfc-a972-470a-8b4a-68744ef220c4"
      },
      "outputs": [
        {
          "name": "stderr",
          "output_type": "stream",
          "text": [
            "C:\\Users\\Dmitriy\\AppData\\Local\\Temp\\ipykernel_2892\\613090776.py:12: UserWarning: pandas only supports SQLAlchemy connectable (engine/connection) or database string URI or sqlite3 DBAPI2 connection. Other DBAPI2 objects are not tested. Please consider using SQLAlchemy.\n",
            "  result = pd.read_sql_query(query_10, connection)\n"
          ]
        },
        {
          "data": {
            "text/html": [
              "<div>\n",
              "<style scoped>\n",
              "    .dataframe tbody tr th:only-of-type {\n",
              "        vertical-align: middle;\n",
              "    }\n",
              "\n",
              "    .dataframe tbody tr th {\n",
              "        vertical-align: top;\n",
              "    }\n",
              "\n",
              "    .dataframe thead th {\n",
              "        text-align: right;\n",
              "    }\n",
              "</style>\n",
              "<table border=\"1\" class=\"dataframe\">\n",
              "  <thead>\n",
              "    <tr style=\"text-align: right;\">\n",
              "      <th></th>\n",
              "      <th>name</th>\n",
              "    </tr>\n",
              "  </thead>\n",
              "  <tbody>\n",
              "    <tr>\n",
              "      <th>0</th>\n",
              "      <td>2ГИС</td>\n",
              "    </tr>\n",
              "  </tbody>\n",
              "</table>\n",
              "</div>"
            ],
            "text/plain": [
              "   name\n",
              "0  2ГИС"
            ]
          },
          "execution_count": 29,
          "metadata": {},
          "output_type": "execute_result"
        }
      ],
      "source": [
        "query_5_5 = '''SELECT e.name\n",
        "             FROM \n",
        "                  public.employers e\n",
        "                  JOIN public.employers_industries ei ON e.id = ei.employer_id\n",
        "             GROUP BY e.id\n",
        "             HAVING COUNT(ei.industry_id) = 4\n",
        "             ORDER BY e.name\n",
        "             OFFSET 2\n",
        "             LIMIT 1    \n",
        "            '''\n",
        "            \n",
        "result = pd.read_sql_query(query_5_5, connection)\n",
        "\n",
        "result"
      ]
    },
    {
      "attachments": {},
      "cell_type": "markdown",
      "id": "xsPtpp8EsaED",
      "metadata": {
        "id": "xsPtpp8EsaED"
      },
      "source": [
        "Название этого работодателя - 2ГИС."
      ]
    },
    {
      "cell_type": "markdown",
      "id": "3bfcfdaf-755d-4d2b-8ed8-326201dc07ab",
      "metadata": {
        "id": "3bfcfdaf-755d-4d2b-8ed8-326201dc07ab"
      },
      "source": [
        "6. С помощью запроса выясните, у какого количества работодателей в качестве сферы деятельности указана Разработка программного обеспечения.\n"
      ]
    },
    {
      "cell_type": "code",
      "execution_count": 31,
      "id": "ad3f270f-2991-47eb-929b-e8f88a55b0d1",
      "metadata": {
        "id": "ad3f270f-2991-47eb-929b-e8f88a55b0d1"
      },
      "outputs": [
        {
          "name": "stderr",
          "output_type": "stream",
          "text": [
            "C:\\Users\\Dmitriy\\AppData\\Local\\Temp\\ipykernel_2892\\1823736761.py:10: UserWarning: pandas only supports SQLAlchemy connectable (engine/connection) or database string URI or sqlite3 DBAPI2 connection. Other DBAPI2 objects are not tested. Please consider using SQLAlchemy.\n",
            "  result = pd.read_sql_query(query_11, connection)\n"
          ]
        },
        {
          "data": {
            "text/html": [
              "<div>\n",
              "<style scoped>\n",
              "    .dataframe tbody tr th:only-of-type {\n",
              "        vertical-align: middle;\n",
              "    }\n",
              "\n",
              "    .dataframe tbody tr th {\n",
              "        vertical-align: top;\n",
              "    }\n",
              "\n",
              "    .dataframe thead th {\n",
              "        text-align: right;\n",
              "    }\n",
              "</style>\n",
              "<table border=\"1\" class=\"dataframe\">\n",
              "  <thead>\n",
              "    <tr style=\"text-align: right;\">\n",
              "      <th></th>\n",
              "      <th>count</th>\n",
              "    </tr>\n",
              "  </thead>\n",
              "  <tbody>\n",
              "    <tr>\n",
              "      <th>0</th>\n",
              "      <td>3553</td>\n",
              "    </tr>\n",
              "  </tbody>\n",
              "</table>\n",
              "</div>"
            ],
            "text/plain": [
              "   count\n",
              "0   3553"
            ]
          },
          "execution_count": 31,
          "metadata": {},
          "output_type": "execute_result"
        }
      ],
      "source": [
        "query_5_6 = '''SELECT COUNT(e.id)\n",
        "             FROM \n",
        "                  public.employers e \n",
        "                  JOIN public.employers_industries ei ON e.id = ei.employer_id\n",
        "                  JOIN public.industries i ON i.id = ei.industry_id\n",
        "             GROUP BY i.name\n",
        "             HAVING i.name = 'Разработка программного обеспечения'      \n",
        "            '''\n",
        "            \n",
        "result = pd.read_sql_query(query_5_6, connection)\n",
        "\n",
        "result"
      ]
    },
    {
      "attachments": {},
      "cell_type": "markdown",
      "id": "H72qxWM0shPR",
      "metadata": {
        "id": "H72qxWM0shPR"
      },
      "source": [
        "Работодателей, занимающихся разработкой программного обесечения - 3553."
      ]
    },
    {
      "cell_type": "markdown",
      "id": "7b02bb86-0546-40fb-94a4-242f050a5c57",
      "metadata": {
        "id": "7b02bb86-0546-40fb-94a4-242f050a5c57"
      },
      "source": [
        "7. Для компании «Яндекс» выведите список регионов-миллионников, в которых представлены вакансии компании, вместе с количеством вакансий в этих регионах. Также добавьте строку Total с общим количеством вакансий компании. Результат отсортируйте по возрастанию количества.\n",
        "\n",
        "Список городов-милионников надо взять [отсюда](https://ru.wikipedia.org/wiki/%D0%93%D0%BE%D1%80%D0%BE%D0%B4%D0%B0-%D0%BC%D0%B8%D0%BB%D0%BB%D0%B8%D0%BE%D0%BD%D0%B5%D1%80%D1%8B_%D0%A0%D0%BE%D1%81%D1%81%D0%B8%D0%B8). \n",
        "\n",
        "Если возникнут трудности с этим задание посмотрите материалы модуля  PYTHON-17. Как получать данные из веб-источников и API. "
      ]
    },
    {
      "cell_type": "code",
      "execution_count": 50,
      "id": "b18278ad",
      "metadata": {},
      "outputs": [
        {
          "data": {
            "text/plain": [
              "('Москва',\n",
              " 'Санкт-Петербург',\n",
              " 'Новосибирск',\n",
              " 'Екатеринбург',\n",
              " 'Казань',\n",
              " 'Нижний Новгород',\n",
              " 'Красноярск',\n",
              " 'Челябинск',\n",
              " 'Самара',\n",
              " 'Уфа',\n",
              " 'Ростов-на-Дону',\n",
              " 'Омск',\n",
              " 'Краснодар',\n",
              " 'Воронеж',\n",
              " 'Пермь',\n",
              " 'Волгоград')"
            ]
          },
          "execution_count": 50,
          "metadata": {},
          "output_type": "execute_result"
        }
      ],
      "source": [
        "import requests\n",
        "from bs4 import BeautifulSoup \n",
        "\n",
        "url = 'https://ru.wikipedia.org/wiki/Города-миллионеры_России#Список_городов-миллионеров'\n",
        "response = requests.get(url)\n",
        "\n",
        "page = BeautifulSoup(response.text, 'html.parser')\n",
        "mln_cities = tuple(a.text for a in page.find('table', class_=\"standard sortable\").find_all('a')  if a.text[0].isupper())\n",
        "mln_cities"
      ]
    },
    {
      "cell_type": "code",
      "execution_count": 53,
      "id": "5a0e32a4-e68a-4365-8a39-2fe24c542c36",
      "metadata": {
        "id": "5a0e32a4-e68a-4365-8a39-2fe24c542c36"
      },
      "outputs": [
        {
          "name": "stderr",
          "output_type": "stream",
          "text": [
            "C:\\Users\\Dmitriy\\AppData\\Local\\Temp\\ipykernel_2892\\4015065792.py:22: UserWarning: pandas only supports SQLAlchemy connectable (engine/connection) or database string URI or sqlite3 DBAPI2 connection. Other DBAPI2 objects are not tested. Please consider using SQLAlchemy.\n",
            "  result = pd.read_sql_query(query_12, connection)\n"
          ]
        },
        {
          "data": {
            "text/html": [
              "<div>\n",
              "<style scoped>\n",
              "    .dataframe tbody tr th:only-of-type {\n",
              "        vertical-align: middle;\n",
              "    }\n",
              "\n",
              "    .dataframe tbody tr th {\n",
              "        vertical-align: top;\n",
              "    }\n",
              "\n",
              "    .dataframe thead th {\n",
              "        text-align: right;\n",
              "    }\n",
              "</style>\n",
              "<table border=\"1\" class=\"dataframe\">\n",
              "  <thead>\n",
              "    <tr style=\"text-align: right;\">\n",
              "      <th></th>\n",
              "      <th>name</th>\n",
              "      <th>count</th>\n",
              "    </tr>\n",
              "  </thead>\n",
              "  <tbody>\n",
              "    <tr>\n",
              "      <th>0</th>\n",
              "      <td>Омск</td>\n",
              "      <td>21</td>\n",
              "    </tr>\n",
              "    <tr>\n",
              "      <th>1</th>\n",
              "      <td>Челябинск</td>\n",
              "      <td>22</td>\n",
              "    </tr>\n",
              "    <tr>\n",
              "      <th>2</th>\n",
              "      <td>Красноярск</td>\n",
              "      <td>23</td>\n",
              "    </tr>\n",
              "    <tr>\n",
              "      <th>3</th>\n",
              "      <td>Волгоград</td>\n",
              "      <td>24</td>\n",
              "    </tr>\n",
              "    <tr>\n",
              "      <th>4</th>\n",
              "      <td>Пермь</td>\n",
              "      <td>25</td>\n",
              "    </tr>\n",
              "    <tr>\n",
              "      <th>5</th>\n",
              "      <td>Казань</td>\n",
              "      <td>25</td>\n",
              "    </tr>\n",
              "    <tr>\n",
              "      <th>6</th>\n",
              "      <td>Ростов-на-Дону</td>\n",
              "      <td>25</td>\n",
              "    </tr>\n",
              "    <tr>\n",
              "      <th>7</th>\n",
              "      <td>Уфа</td>\n",
              "      <td>26</td>\n",
              "    </tr>\n",
              "    <tr>\n",
              "      <th>8</th>\n",
              "      <td>Самара</td>\n",
              "      <td>26</td>\n",
              "    </tr>\n",
              "    <tr>\n",
              "      <th>9</th>\n",
              "      <td>Краснодар</td>\n",
              "      <td>30</td>\n",
              "    </tr>\n",
              "    <tr>\n",
              "      <th>10</th>\n",
              "      <td>Воронеж</td>\n",
              "      <td>32</td>\n",
              "    </tr>\n",
              "    <tr>\n",
              "      <th>11</th>\n",
              "      <td>Новосибирск</td>\n",
              "      <td>35</td>\n",
              "    </tr>\n",
              "    <tr>\n",
              "      <th>12</th>\n",
              "      <td>Нижний Новгород</td>\n",
              "      <td>36</td>\n",
              "    </tr>\n",
              "    <tr>\n",
              "      <th>13</th>\n",
              "      <td>Екатеринбург</td>\n",
              "      <td>39</td>\n",
              "    </tr>\n",
              "    <tr>\n",
              "      <th>14</th>\n",
              "      <td>Санкт-Петербург</td>\n",
              "      <td>42</td>\n",
              "    </tr>\n",
              "    <tr>\n",
              "      <th>15</th>\n",
              "      <td>Москва</td>\n",
              "      <td>54</td>\n",
              "    </tr>\n",
              "    <tr>\n",
              "      <th>16</th>\n",
              "      <td>Total</td>\n",
              "      <td>485</td>\n",
              "    </tr>\n",
              "  </tbody>\n",
              "</table>\n",
              "</div>"
            ],
            "text/plain": [
              "               name  count\n",
              "0              Омск     21\n",
              "1         Челябинск     22\n",
              "2        Красноярск     23\n",
              "3         Волгоград     24\n",
              "4             Пермь     25\n",
              "5            Казань     25\n",
              "6    Ростов-на-Дону     25\n",
              "7               Уфа     26\n",
              "8            Самара     26\n",
              "9         Краснодар     30\n",
              "10          Воронеж     32\n",
              "11      Новосибирск     35\n",
              "12  Нижний Новгород     36\n",
              "13     Екатеринбург     39\n",
              "14  Санкт-Петербург     42\n",
              "15           Москва     54\n",
              "16            Total    485"
            ]
          },
          "execution_count": 53,
          "metadata": {},
          "output_type": "execute_result"
        }
      ],
      "source": [
        "query_5_7 = f'''(SELECT \n",
        "                  a.name,\n",
        "                  COUNT(v.id)\n",
        "             FROM \n",
        "                  public.vacancies v\n",
        "                  JOIN public.areas a ON v.area_id = a.id\n",
        "                  JOIN public.employers e ON v.employer_id = e.id\n",
        "             WHERE e.name = 'Яндекс' AND a.name IN {mln_cities}\n",
        "             GROUP BY a.name)\n",
        "             UNION ALL\n",
        "             (SELECT \n",
        "                 'Total',\n",
        "                  COUNT(v.id)\n",
        "              FROM \n",
        "                  public.vacancies v\n",
        "                  JOIN public.areas a ON v.area_id = a.id\n",
        "                  JOIN public.employers e ON v.employer_id = e.id\n",
        "              WHERE e.name = 'Яндекс' AND a.name IN {mln_cities})\n",
        "              ORDER BY 2    \n",
        "            '''\n",
        "            \n",
        "result = pd.read_sql_query(query_5_7, connection)\n",
        "\n",
        "result"
      ]
    },
    {
      "attachments": {},
      "cell_type": "markdown",
      "id": "ttPhiO1rsvPq",
      "metadata": {
        "id": "ttPhiO1rsvPq"
      },
      "source": [
        "Топ городов-миллионников России по числу вакансий \"Яндекса\" в них, по возрастанию: Омск (21 вакансия), Челябинск (22), Красноярск (23), Волгоград (24), Пермь (25), Казань (25), Ростов-на-Дону (25), Уфа (26), Самара (26), Краснодар (30), Воронеж (32), Новосибирск (35), Нижний Новгород (36), Екатеринбург (39), Санкт-Петербург (42), Москва (54). Всего в базе данных содержится информация о 485 вакансиях \"Яндекса\"."
      ]
    },
    {
      "cell_type": "markdown",
      "id": "04966e40-3bc3-4dc8-9ba2-e80580ce3abc",
      "metadata": {
        "id": "04966e40-3bc3-4dc8-9ba2-e80580ce3abc"
      },
      "source": [
        "***"
      ]
    },
    {
      "attachments": {},
      "cell_type": "markdown",
      "id": "aGGyER-yt4SR",
      "metadata": {
        "id": "aGGyER-yt4SR"
      },
      "source": [
        "## Выводы по Юниту 5\n",
        "\n",
        "Пятью крупнейшими работодателями в базе данных как по абсолютному количеству открытых вакансий, так и по количеству охватываемых вакансиями регионов являются (в порядке убывания) \"Яндекс\", \"Ростелеком\", \"Тинькофф\", \"СБЕР\" и \"Газпром нефть\". В первую очередь, это, конечно, даёт понять, какие отрасли экономики в настоящий момент являются самыми развитыми в России: IT-технологии (\"Яндекс\" и \"Ростелеком\"), банкинг (\"Тинькофф\" и \"СБЕР\") и нефтедобывающая промышленность (\"Газпром нефть\"). \n",
        "\n",
        "Кроме этого, полное совпадение верхушек рейтингов работодателей по количеству открываемых ими вакансий и по количеству регионов, охватывемых этими вакансиями, должно означать, что по меньшей мере крупные работодатели стремятся к равномерному распределению открываемых ими вакансий по регионам - то есть, чем больше новых работников нужно работодателям, тем в большем количестве регионов им эти новые работники требуются. Здравый смысл говорит,что это должно являться нормальной ситуацией - любой нормальный крупный бизнес должен стремиться к более широкой географической экспансии по мере своего собственного роста, а не концентрировать всю свою деятельность в своём родном и/или крупнейшем регионах страны.\n",
        "\n",
        "У около 20% у работодателей в базе данных по какой-то причине отсутствует информация об их сфере деятельности. Это достаточно большое количество, чтобы привести к искажениям при использовании данной версии базы данных для какого-либо анализа сфер деятельности работодателей. Я рекомендую провести работу по заполнению пропусков в этом признаке, если вы хотите использовать предлагаемые данные для серьёзного исследования.\n",
        "\n",
        "Всего лишь около четверти всех вакансий, открытых \"Яндексом\" (крупнейшим работодателем), были открыты в городах-миллионниках - т.е. абсолютное их большинство относятся к менее крупным городам. Скорее всего, это значит, что все рабочие места в филиалах компании, находящиеся в \"миллионниках\", уже заняты, а основная причина потребности в новых специалистах для работодателя в настоящее время - расширение компании в города со средней или маленькой численностью населения. Медианное (т.е. типичное) количество вакансий \"Яндекса\" в городе-миллионнике - 26. При сравнении \"миллионников\" друг с другом, в общем, количество вакансий \"Яндекса\" в них, грубо, но пропорционально численности их населения, что естественно."
      ]
    },
    {
      "cell_type": "markdown",
      "id": "b1ef156a-efcb-49ce-bb23-90763e7f35b2",
      "metadata": {
        "id": "b1ef156a-efcb-49ce-bb23-90763e7f35b2",
        "tags": []
      },
      "source": [
        "# Юнит 6. Предметный анализ"
      ]
    },
    {
      "cell_type": "markdown",
      "id": "b9cd50a0-992d-4988-8463-2b2b1c4629b4",
      "metadata": {
        "id": "b9cd50a0-992d-4988-8463-2b2b1c4629b4"
      },
      "source": [
        "1. Сколько вакансий имеет отношение к данным?\n",
        "\n",
        "Считаем, что вакансия имеет отношение к данным, если в её названии содержатся слова 'data' или 'данн'.\n",
        "\n",
        "*Подсказка: Обратите внимание, что названия вакансий могут быть написаны в любом регистре.* \n"
      ]
    },
    {
      "cell_type": "code",
      "execution_count": 36,
      "id": "54ab0e50-c0f1-47cc-a54b-bc5c8bc363f9",
      "metadata": {
        "id": "54ab0e50-c0f1-47cc-a54b-bc5c8bc363f9"
      },
      "outputs": [
        {
          "name": "stderr",
          "output_type": "stream",
          "text": [
            "C:\\Users\\Dmitriy\\AppData\\Local\\Temp\\ipykernel_2892\\3200626705.py:6: UserWarning: pandas only supports SQLAlchemy connectable (engine/connection) or database string URI or sqlite3 DBAPI2 connection. Other DBAPI2 objects are not tested. Please consider using SQLAlchemy.\n",
            "  result = pd.read_sql_query(query_13, connection)\n"
          ]
        },
        {
          "data": {
            "text/html": [
              "<div>\n",
              "<style scoped>\n",
              "    .dataframe tbody tr th:only-of-type {\n",
              "        vertical-align: middle;\n",
              "    }\n",
              "\n",
              "    .dataframe tbody tr th {\n",
              "        vertical-align: top;\n",
              "    }\n",
              "\n",
              "    .dataframe thead th {\n",
              "        text-align: right;\n",
              "    }\n",
              "</style>\n",
              "<table border=\"1\" class=\"dataframe\">\n",
              "  <thead>\n",
              "    <tr style=\"text-align: right;\">\n",
              "      <th></th>\n",
              "      <th>count</th>\n",
              "    </tr>\n",
              "  </thead>\n",
              "  <tbody>\n",
              "    <tr>\n",
              "      <th>0</th>\n",
              "      <td>1771</td>\n",
              "    </tr>\n",
              "  </tbody>\n",
              "</table>\n",
              "</div>"
            ],
            "text/plain": [
              "   count\n",
              "0   1771"
            ]
          },
          "execution_count": 36,
          "metadata": {},
          "output_type": "execute_result"
        }
      ],
      "source": [
        "query_6_1 = '''SELECT COUNT(v.id)\n",
        "             FROM public.vacancies v\n",
        "             WHERE (LOWER(v.name) LIKE '%data%') OR (LOWER(v.name) LIKE '%данн%')      \n",
        "            '''\n",
        "            \n",
        "result = pd.read_sql_query(query_6_1, connection)\n",
        "\n",
        "result"
      ]
    },
    {
      "cell_type": "markdown",
      "id": "9F1meAqsuUjd",
      "metadata": {
        "id": "9F1meAqsuUjd"
      },
      "source": [
        "1771 вакансия имеет отношение к данным."
      ]
    },
    {
      "cell_type": "markdown",
      "id": "4dea20cb-a36b-474a-a0b9-e08e8e3857a5",
      "metadata": {
        "id": "4dea20cb-a36b-474a-a0b9-e08e8e3857a5"
      },
      "source": [
        "2. Сколько есть подходящих вакансий для начинающего дата-сайентиста? \n",
        "Будем считать вакансиями для дата-сайентистов такие, в названии которых есть хотя бы одно из следующих сочетаний:\n",
        "* 'data scientist'\n",
        "* 'data science'\n",
        "* 'исследователь данных'\n",
        "* 'ML' (здесь не нужно брать вакансии по HTML)\n",
        "* 'machine learning'\n",
        "* 'машинн%обучен%'\n",
        "\n",
        "** В следующих заданиях мы продолжим работать с вакансиями по этому условию.*\n",
        "\n",
        "Считаем вакансиями для специалистов уровня Junior следующие:\n",
        "* в названии есть слово 'junior' *или*\n",
        "* требуемый опыт — Нет опыта *или*\n",
        "* тип трудоустройства — Стажировка.\n",
        " "
      ]
    },
    {
      "cell_type": "code",
      "execution_count": 38,
      "id": "9c61b3c0-bb66-46c9-ae1e-81d3f5752b4a",
      "metadata": {
        "id": "9c61b3c0-bb66-46c9-ae1e-81d3f5752b4a"
      },
      "outputs": [
        {
          "name": "stderr",
          "output_type": "stream",
          "text": [
            "C:\\Users\\Dmitriy\\AppData\\Local\\Temp\\ipykernel_2892\\1540436870.py:14: UserWarning: pandas only supports SQLAlchemy connectable (engine/connection) or database string URI or sqlite3 DBAPI2 connection. Other DBAPI2 objects are not tested. Please consider using SQLAlchemy.\n",
            "  result = pd.read_sql_query(query_14, connection)\n"
          ]
        },
        {
          "data": {
            "text/html": [
              "<div>\n",
              "<style scoped>\n",
              "    .dataframe tbody tr th:only-of-type {\n",
              "        vertical-align: middle;\n",
              "    }\n",
              "\n",
              "    .dataframe tbody tr th {\n",
              "        vertical-align: top;\n",
              "    }\n",
              "\n",
              "    .dataframe thead th {\n",
              "        text-align: right;\n",
              "    }\n",
              "</style>\n",
              "<table border=\"1\" class=\"dataframe\">\n",
              "  <thead>\n",
              "    <tr style=\"text-align: right;\">\n",
              "      <th></th>\n",
              "      <th>count</th>\n",
              "    </tr>\n",
              "  </thead>\n",
              "  <tbody>\n",
              "    <tr>\n",
              "      <th>0</th>\n",
              "      <td>51</td>\n",
              "    </tr>\n",
              "  </tbody>\n",
              "</table>\n",
              "</div>"
            ],
            "text/plain": [
              "   count\n",
              "0     51"
            ]
          },
          "execution_count": 38,
          "metadata": {},
          "output_type": "execute_result"
        }
      ],
      "source": [
        "query_6_2 = '''SELECT COUNT(v.id)\n",
        "             FROM public.vacancies v\n",
        "             WHERE \n",
        "                  (LOWER(v.name) LIKE '%data scientist%'\n",
        "                  OR LOWER(v.name) LIKE '%машинн%обучен%'\n",
        "                  OR v.name LIKE '%ML%'\n",
        "                  OR LOWER(v.name) LIKE '%data science%'\n",
        "                  OR LOWER(v.name) LIKE '%исследователь данных%'\n",
        "                  OR LOWER(v.name) LIKE '%machine learning%')\n",
        "                  AND v.name NOT LIKE '%HTML%'\n",
        "                  AND ((LOWER(v.name) LIKE '%junior%') OR (v.experience = 'Нет опыта') OR (v.employment = 'Стажировка'))      \n",
        "            '''\n",
        "            \n",
        "result = pd.read_sql_query(query_6_2, connection)\n",
        "\n",
        "result"
      ]
    },
    {
      "attachments": {},
      "cell_type": "markdown",
      "id": "ZNM-LLYuu1dj",
      "metadata": {
        "id": "ZNM-LLYuu1dj"
      },
      "source": [
        "51 вакансия рассчитана на начинающего дата-саентиста."
      ]
    },
    {
      "cell_type": "markdown",
      "id": "eedceb80-c5ca-480e-b27a-278dfb8b4438",
      "metadata": {
        "id": "eedceb80-c5ca-480e-b27a-278dfb8b4438"
      },
      "source": [
        "3. Сколько есть вакансий для DS, в которых в качестве ключевого навыка указан SQL или postgres?\n",
        "\n",
        "** Критерии для отнесения вакансии к DS указаны в предыдущем задании.*"
      ]
    },
    {
      "cell_type": "code",
      "execution_count": 40,
      "id": "69621713-0cc5-4f1b-a1d7-bb144fa6148c",
      "metadata": {
        "id": "69621713-0cc5-4f1b-a1d7-bb144fa6148c"
      },
      "outputs": [
        {
          "name": "stderr",
          "output_type": "stream",
          "text": [
            "C:\\Users\\Dmitriy\\AppData\\Local\\Temp\\ipykernel_2892\\3243186619.py:14: UserWarning: pandas only supports SQLAlchemy connectable (engine/connection) or database string URI or sqlite3 DBAPI2 connection. Other DBAPI2 objects are not tested. Please consider using SQLAlchemy.\n",
            "  result = pd.read_sql_query(query_15, connection)\n"
          ]
        },
        {
          "data": {
            "text/html": [
              "<div>\n",
              "<style scoped>\n",
              "    .dataframe tbody tr th:only-of-type {\n",
              "        vertical-align: middle;\n",
              "    }\n",
              "\n",
              "    .dataframe tbody tr th {\n",
              "        vertical-align: top;\n",
              "    }\n",
              "\n",
              "    .dataframe thead th {\n",
              "        text-align: right;\n",
              "    }\n",
              "</style>\n",
              "<table border=\"1\" class=\"dataframe\">\n",
              "  <thead>\n",
              "    <tr style=\"text-align: right;\">\n",
              "      <th></th>\n",
              "      <th>count</th>\n",
              "    </tr>\n",
              "  </thead>\n",
              "  <tbody>\n",
              "    <tr>\n",
              "      <th>0</th>\n",
              "      <td>201</td>\n",
              "    </tr>\n",
              "  </tbody>\n",
              "</table>\n",
              "</div>"
            ],
            "text/plain": [
              "   count\n",
              "0    201"
            ]
          },
          "execution_count": 40,
          "metadata": {},
          "output_type": "execute_result"
        }
      ],
      "source": [
        "query_6_3 = '''SELECT COUNT(v.id)\n",
        "             FROM public.vacancies v\n",
        "             WHERE \n",
        "                  (LOWER(v.name) LIKE '%data scientist%'\n",
        "                  OR LOWER(v.name) LIKE '%машинн%обучен%'\n",
        "                  OR v.name LIKE '%ML%'\n",
        "                  OR LOWER(v.name) LIKE '%data science%'\n",
        "                  OR LOWER(v.name) LIKE '%исследователь данных%'\n",
        "                  OR LOWER(v.name) LIKE '%machine learning%')\n",
        "                  AND v.name NOT LIKE '%HTML%'\n",
        "                  AND (v.key_skills LIKE '%SQL%') OR(LOWER(v.key_skills) LIKE 'postgres')      \n",
        "            '''\n",
        "            \n",
        "result = pd.read_sql_query(query_6_3, connection)\n",
        "\n",
        "result"
      ]
    },
    {
      "attachments": {},
      "cell_type": "markdown",
      "id": "alA8WEAAvGdf",
      "metadata": {
        "id": "alA8WEAAvGdf"
      },
      "source": [
        "Вакансий, имеющих отношение к SQL, в базе данных 201."
      ]
    },
    {
      "cell_type": "markdown",
      "id": "1be1e9c6-37cf-4a5f-bfeb-04cab799dc80",
      "metadata": {
        "id": "1be1e9c6-37cf-4a5f-bfeb-04cab799dc80"
      },
      "source": [
        "4. Проверьте, насколько популярен Python в требованиях работодателей к DS.Для этого вычислите количество вакансий, в которых в качестве ключевого навыка указан Python.\n",
        "\n",
        "** Это можно сделать помощью запроса, аналогичного предыдущему.*"
      ]
    },
    {
      "cell_type": "code",
      "execution_count": 42,
      "id": "0036a355-9ccf-4564-8b01-73d8194297e7",
      "metadata": {
        "id": "0036a355-9ccf-4564-8b01-73d8194297e7"
      },
      "outputs": [
        {
          "name": "stderr",
          "output_type": "stream",
          "text": [
            "C:\\Users\\Dmitriy\\AppData\\Local\\Temp\\ipykernel_2892\\2742116260.py:14: UserWarning: pandas only supports SQLAlchemy connectable (engine/connection) or database string URI or sqlite3 DBAPI2 connection. Other DBAPI2 objects are not tested. Please consider using SQLAlchemy.\n",
            "  result = pd.read_sql_query(query_16, connection)\n"
          ]
        },
        {
          "data": {
            "text/html": [
              "<div>\n",
              "<style scoped>\n",
              "    .dataframe tbody tr th:only-of-type {\n",
              "        vertical-align: middle;\n",
              "    }\n",
              "\n",
              "    .dataframe tbody tr th {\n",
              "        vertical-align: top;\n",
              "    }\n",
              "\n",
              "    .dataframe thead th {\n",
              "        text-align: right;\n",
              "    }\n",
              "</style>\n",
              "<table border=\"1\" class=\"dataframe\">\n",
              "  <thead>\n",
              "    <tr style=\"text-align: right;\">\n",
              "      <th></th>\n",
              "      <th>count</th>\n",
              "    </tr>\n",
              "  </thead>\n",
              "  <tbody>\n",
              "    <tr>\n",
              "      <th>0</th>\n",
              "      <td>351</td>\n",
              "    </tr>\n",
              "  </tbody>\n",
              "</table>\n",
              "</div>"
            ],
            "text/plain": [
              "   count\n",
              "0    351"
            ]
          },
          "execution_count": 42,
          "metadata": {},
          "output_type": "execute_result"
        }
      ],
      "source": [
        "query_6_4 = '''SELECT COUNT(v.id)\n",
        "             FROM public.vacancies v\n",
        "             WHERE \n",
        "                  (LOWER(v.name) LIKE '%data scientist%'\n",
        "                  OR LOWER(v.name) LIKE '%машинн%обучен%'\n",
        "                  OR v.name LIKE '%ML%'\n",
        "                  OR LOWER(v.name) LIKE '%data science%'\n",
        "                  OR LOWER(v.name) LIKE '%исследователь данных%'\n",
        "                  OR LOWER(v.name) LIKE '%machine learning%')\n",
        "                  AND v.name NOT LIKE '%HTML%'\n",
        "                  AND LOWER(v.key_skills) LIKE '%python%'      \n",
        "            '''\n",
        "            \n",
        "result = pd.read_sql_query(query_6_4, connection)\n",
        "\n",
        "result"
      ]
    },
    {
      "attachments": {},
      "cell_type": "markdown",
      "id": "1i-5WyucvQ6v",
      "metadata": {
        "id": "1i-5WyucvQ6v"
      },
      "source": [
        "Вакансий, имеющих отношение к Python, в базе данных 351"
      ]
    },
    {
      "cell_type": "markdown",
      "id": "ec3c8db7-fa21-4a41-a994-1af63742a642",
      "metadata": {
        "id": "ec3c8db7-fa21-4a41-a994-1af63742a642"
      },
      "source": [
        "5. Сколько ключевых навыков в среднем указывают в вакансиях для DS?\n",
        "Ответ округлите до двух знаков после точки-разделителя."
      ]
    },
    {
      "cell_type": "code",
      "execution_count": 73,
      "id": "949132bc-d5b6-4611-8218-0b9a504d74f4",
      "metadata": {
        "id": "949132bc-d5b6-4611-8218-0b9a504d74f4"
      },
      "outputs": [
        {
          "name": "stderr",
          "output_type": "stream",
          "text": [
            "C:\\Users\\Dmitriy\\AppData\\Local\\Temp\\ipykernel_2892\\318583591.py:13: UserWarning: pandas only supports SQLAlchemy connectable (engine/connection) or database string URI or sqlite3 DBAPI2 connection. Other DBAPI2 objects are not tested. Please consider using SQLAlchemy.\n",
            "  result = pd.read_sql_query(query_17, connection)\n"
          ]
        },
        {
          "data": {
            "text/html": [
              "<div>\n",
              "<style scoped>\n",
              "    .dataframe tbody tr th:only-of-type {\n",
              "        vertical-align: middle;\n",
              "    }\n",
              "\n",
              "    .dataframe tbody tr th {\n",
              "        vertical-align: top;\n",
              "    }\n",
              "\n",
              "    .dataframe thead th {\n",
              "        text-align: right;\n",
              "    }\n",
              "</style>\n",
              "<table border=\"1\" class=\"dataframe\">\n",
              "  <thead>\n",
              "    <tr style=\"text-align: right;\">\n",
              "      <th></th>\n",
              "      <th>round</th>\n",
              "    </tr>\n",
              "  </thead>\n",
              "  <tbody>\n",
              "    <tr>\n",
              "      <th>0</th>\n",
              "      <td>6.41</td>\n",
              "    </tr>\n",
              "  </tbody>\n",
              "</table>\n",
              "</div>"
            ],
            "text/plain": [
              "   round\n",
              "0   6.41"
            ]
          },
          "execution_count": 73,
          "metadata": {},
          "output_type": "execute_result"
        }
      ],
      "source": [
        "query_6_5 = '''SELECT ROUND(AVG(LENGTH(v.key_skills) - LENGTH(REPLACE(v.key_skills, '\\t', '')) + 1), 2)\n",
        "             FROM public.vacancies v\n",
        "             WHERE \n",
        "                  (LOWER(v.name) LIKE '%data scientist%'\n",
        "                  OR LOWER(v.name) LIKE '%машинн%обучен%'\n",
        "                  OR v.name LIKE '%ML%'\n",
        "                  OR LOWER(v.name) LIKE '%data science%'\n",
        "                  OR LOWER(v.name) LIKE '%исследователь данных%'\n",
        "                  OR LOWER(v.name) LIKE '%machine learning%')\n",
        "                  AND v.name NOT LIKE '%HTML%'      \n",
        "            '''\n",
        "            \n",
        "result = pd.read_sql_query(query_6_5, connection)\n",
        "\n",
        "result   "
      ]
    },
    {
      "cell_type": "markdown",
      "id": "a3V24Tvmviqk",
      "metadata": {
        "id": "a3V24Tvmviqk"
      },
      "source": [
        "В среднем в вакансиях на дата-саентистов указывают шесть скиллов (точнее, 6.41 скилла)."
      ]
    },
    {
      "cell_type": "markdown",
      "id": "1041c17a-ca8f-4543-a0ca-32778914fb00",
      "metadata": {
        "id": "1041c17a-ca8f-4543-a0ca-32778914fb00"
      },
      "source": [
        "6. Напишите запрос, позволяющий вычислить, какую зарплату для DS в **среднем** указывают для каждого типа требуемого опыта (уникальное значение из поля *experience*). \n",
        "\n",
        "При решении задачи примите во внимание следующее:\n",
        "1. Рассматриваем только вакансии, у которых заполнено хотя бы одно из двух полей с зарплатой.\n",
        "2. Если заполнены оба поля с зарплатой, то считаем зарплату по каждой вакансии как сумму двух полей, делённую на 2. Если заполнено только одно из полей, то его и считаем зарплатой по вакансии.\n",
        "3. Если в расчётах участвует null, в результате он тоже даст null (посмотрите, что возвращает запрос select 1 + null). Чтобы избежать этой ситуацию, мы воспользуемся функцией [coalesce](https://postgrespro.ru/docs/postgresql/9.5/functions-conditional#functions-coalesce-nvl-ifnull), которая заменит null на значение, которое мы передадим. Например, посмотрите, что возвращает запрос `select 1 + coalesce(null, 0)`\n",
        "\n",
        "Выясните, на какую зарплату в среднем может рассчитывать дата-сайентист с опытом работы от 3 до 6 лет. Результат округлите до целого числа. "
      ]
    },
    {
      "cell_type": "code",
      "execution_count": 77,
      "id": "6a743d39-5204-48d3-8271-b9f88e68d40e",
      "metadata": {
        "id": "6a743d39-5204-48d3-8271-b9f88e68d40e"
      },
      "outputs": [
        {
          "name": "stderr",
          "output_type": "stream",
          "text": [
            "C:\\Users\\Dmitriy\\AppData\\Local\\Temp\\ipykernel_2892\\1986582226.py:17: UserWarning: pandas only supports SQLAlchemy connectable (engine/connection) or database string URI or sqlite3 DBAPI2 connection. Other DBAPI2 objects are not tested. Please consider using SQLAlchemy.\n",
            "  result = pd.read_sql_query(query_18, connection)\n"
          ]
        },
        {
          "data": {
            "text/html": [
              "<div>\n",
              "<style scoped>\n",
              "    .dataframe tbody tr th:only-of-type {\n",
              "        vertical-align: middle;\n",
              "    }\n",
              "\n",
              "    .dataframe tbody tr th {\n",
              "        vertical-align: top;\n",
              "    }\n",
              "\n",
              "    .dataframe thead th {\n",
              "        text-align: right;\n",
              "    }\n",
              "</style>\n",
              "<table border=\"1\" class=\"dataframe\">\n",
              "  <thead>\n",
              "    <tr style=\"text-align: right;\">\n",
              "      <th></th>\n",
              "      <th>experience</th>\n",
              "      <th>round</th>\n",
              "    </tr>\n",
              "  </thead>\n",
              "  <tbody>\n",
              "    <tr>\n",
              "      <th>0</th>\n",
              "      <td>От 3 до 6 лет</td>\n",
              "      <td>243114.67</td>\n",
              "    </tr>\n",
              "  </tbody>\n",
              "</table>\n",
              "</div>"
            ],
            "text/plain": [
              "      experience      round\n",
              "0  От 3 до 6 лет  243114.67"
            ]
          },
          "execution_count": 77,
          "metadata": {},
          "output_type": "execute_result"
        }
      ],
      "source": [
        "query_6_6 = '''SELECT v.experience,\n",
        "                     ROUND(AVG((COALESCE(v.salary_from, salary_to) + COALESCE(v.salary_to, salary_from)) / 2), 2)\n",
        "             FROM public.vacancies v\n",
        "             WHERE \n",
        "                  (LOWER(v.name) LIKE '%data scientist%'\n",
        "                  OR LOWER(v.name) LIKE '%машинн%обучен%'\n",
        "                  OR v.name LIKE '%ML%'\n",
        "                  OR LOWER(v.name) LIKE '%data science%'\n",
        "                  OR LOWER(v.name) LIKE '%исследователь данных%'\n",
        "                  OR LOWER(v.name) LIKE '%machine learning%')\n",
        "                  AND v.name NOT LIKE '%HTML%'\n",
        "                  AND ((v.salary_from IS NOT NULL) OR (v.salary_to IS NOT NULL)) \n",
        "            GROUP BY v.experience\n",
        "            HAVING v.experience = 'От 3 до 6 лет'     \n",
        "            '''\n",
        "            \n",
        "result = pd.read_sql_query(query_6_6, connection)\n",
        "\n",
        "result"
      ]
    },
    {
      "attachments": {},
      "cell_type": "markdown",
      "id": "aRIJ0mZEwU1_",
      "metadata": {
        "id": "aRIJ0mZEwU1_"
      },
      "source": [
        "Дата-саентист с опытом работы от трёх до шести лет может рассчитывть в среднем на заработную плату в 243 114.67 рублей.\n",
        "\n",
        "Полезно будет узнать среднюю предлагаемую зарплату для всех категорий опыта:"
      ]
    },
    {
      "cell_type": "code",
      "execution_count": 79,
      "id": "f3a978bc",
      "metadata": {},
      "outputs": [
        {
          "name": "stderr",
          "output_type": "stream",
          "text": [
            "C:\\Users\\Dmitriy\\AppData\\Local\\Temp\\ipykernel_2892\\1089576882.py:16: UserWarning: pandas only supports SQLAlchemy connectable (engine/connection) or database string URI or sqlite3 DBAPI2 connection. Other DBAPI2 objects are not tested. Please consider using SQLAlchemy.\n",
            "  result = pd.read_sql_query(query_18_bonus, connection)\n"
          ]
        },
        {
          "data": {
            "text/html": [
              "<div>\n",
              "<style scoped>\n",
              "    .dataframe tbody tr th:only-of-type {\n",
              "        vertical-align: middle;\n",
              "    }\n",
              "\n",
              "    .dataframe tbody tr th {\n",
              "        vertical-align: top;\n",
              "    }\n",
              "\n",
              "    .dataframe thead th {\n",
              "        text-align: right;\n",
              "    }\n",
              "</style>\n",
              "<table border=\"1\" class=\"dataframe\">\n",
              "  <thead>\n",
              "    <tr style=\"text-align: right;\">\n",
              "      <th></th>\n",
              "      <th>experience</th>\n",
              "      <th>round</th>\n",
              "    </tr>\n",
              "  </thead>\n",
              "  <tbody>\n",
              "    <tr>\n",
              "      <th>0</th>\n",
              "      <td>Нет опыта</td>\n",
              "      <td>74642.86</td>\n",
              "    </tr>\n",
              "    <tr>\n",
              "      <th>1</th>\n",
              "      <td>От 1 года до 3 лет</td>\n",
              "      <td>139674.75</td>\n",
              "    </tr>\n",
              "    <tr>\n",
              "      <th>2</th>\n",
              "      <td>От 3 до 6 лет</td>\n",
              "      <td>243114.67</td>\n",
              "    </tr>\n",
              "  </tbody>\n",
              "</table>\n",
              "</div>"
            ],
            "text/plain": [
              "           experience      round\n",
              "0           Нет опыта   74642.86\n",
              "1  От 1 года до 3 лет  139674.75\n",
              "2       От 3 до 6 лет  243114.67"
            ]
          },
          "execution_count": 79,
          "metadata": {},
          "output_type": "execute_result"
        }
      ],
      "source": [
        "query_6_7_bonus = '''SELECT v.experience,\n",
        "                     ROUND(AVG((COALESCE(v.salary_from, salary_to) + COALESCE(v.salary_to, salary_from)) / 2), 2)\n",
        "             FROM public.vacancies v\n",
        "             WHERE \n",
        "                  (LOWER(v.name) LIKE '%data scientist%'\n",
        "                  OR LOWER(v.name) LIKE '%машинн%обучен%'\n",
        "                  OR v.name LIKE '%ML%'\n",
        "                  OR LOWER(v.name) LIKE '%data science%'\n",
        "                  OR LOWER(v.name) LIKE '%исследователь данных%'\n",
        "                  OR LOWER(v.name) LIKE '%machine learning%')\n",
        "                  AND v.name NOT LIKE '%HTML%'\n",
        "                  AND ((v.salary_from IS NOT NULL) OR (v.salary_to IS NOT NULL)) \n",
        "            GROUP BY v.experience     \n",
        "            '''\n",
        "            \n",
        "result = pd.read_sql_query(query_6_7_bonus, connection)\n",
        "\n",
        "result"
      ]
    },
    {
      "cell_type": "markdown",
      "id": "6a7892b4-4113-4746-adce-18aa2844f18e",
      "metadata": {
        "id": "6a7892b4-4113-4746-adce-18aa2844f18e"
      },
      "source": [
        "***"
      ]
    },
    {
      "attachments": {},
      "cell_type": "markdown",
      "id": "UjLWUptVwY1o",
      "metadata": {
        "id": "UjLWUptVwY1o"
      },
      "source": [
        "## Выводы по Юниту 6\n",
        "\n",
        "Вакансий, в сфере своей деятельности связанных с данными, в базе мало - всего около 2% от общего количества всех вакансий.\n",
        "Поэтому ценность их для серьёзного анализа, скорее всего, невелика. Тем не менее, какие-то выводы по ним всё-таки сделать можно.\n",
        "\n",
        "Мы видим, что ценность труда дата саентистов без опыта работы невелика - их средняя заработная плата составляет всего 75 тысяч рублей, что лишь немногим больше, чем средняя минимальная зарплата во всей базе данных (71 тысяча рублей). Такая низкая цена их труда, скорее всего, объясняется низким спросом на джуниоров: скорее всего, у большинства работодателей давно есть сотрудники, способные к элементарым операциям по обработке данных, и поэтому они предпочитают не нанимать лишних людей на эти должности (что подтверждается очень малой долей вакансий, открываемых на джуниоров - около 1/40 от всех вакансий на дата саентистов), а если приходится нанимать - предпочитают платить им как можно меньше, пока они не покажут себя в деле. Низкий спрос на джуниоров косвенно подтверждается малым количеством вакансий, рассчитанных на работу с Python или SQL (10% и 17% от всего объёма вакансий на дата саентистов, соответственно) - \"базовыми\" скиллами дата-саентистов, которыми часто и ограничавется скиллсет новичков, а также довольно большим средним количеством скиллов (шестью), требуемых работодателями в этой сфере от новых сотрудников.\n",
        "\n",
        "Однако с приобретением ими даже минимального опыта, ценность труда дата саентистов резко возрастает. Уже для тех из них, кто обладает опытом работы от одного года до трёх лет, предлагаемая заработная плата в среднем составляет 140 тысяч рублей, что заметно больше среднего максимума предлагаемых по всей базе данных зарплат (110.5 тысяч рублей). А средняя заработная плата, предлагаемая дата саентистам, имеющим опыт работы от трёх до шести лет (243 тысячи рублей), превышает средний максимум для всех сфер деятельности более, чем в два раза(!). Это хорошо согласуется с тем, что работа с данными в настоящее время - всё ещё одна из самых перспективных и стабильно развивающихся сфер деятельности.\n",
        "\n",
        "Интересно, что в базе данных полностью отстутствуют вакансии на дата саентистов с опытом работы больше шести лет. Скорее всего, найти такого опытного специалиста безработным практически нереально, и работодатели знают это."
      ]
    },
    {
      "cell_type": "markdown",
      "id": "c0ED6fh7wiBT",
      "metadata": {
        "id": "c0ED6fh7wiBT"
      },
      "source": [
        "# Общий вывод по проекту"
      ]
    },
    {
      "attachments": {},
      "cell_type": "markdown",
      "id": "h9B3BL-wwj18",
      "metadata": {
        "id": "h9B3BL-wwj18"
      },
      "source": [
        "## Самые значимые выводы, полученные в данном исследовании:\n",
        "\n",
        "- На момент заполнения исследуемой базы данных цена на труд, скорее всего, была сильно повышена. В результате этого у более, чем половины вакансий,\n",
        "  находящихся в базе, отсутствует информация о предлагаемой заработной плате - как результат того, что работодатели были вынуждены предлагать повышенную заработную плату нанимаемым сотрудникам на собеседовании, но не афишировать это публично, чтобы не демотивировать уже работающих у них сотрудников.\n",
        "\n",
        "- Около трёх четвертей всех исследуемых вакансий предполагают традиционный тип занятости - полный график с полной занятостью. Ешё около одной пятой\n",
        "  предполагают удалённую работу, почти все из этих вакансий предполагают полный график, но около одной девятой (или около 3% от общего количества вакансий) рассчитаны на работу по гибкому графику. Можно сделать вывод, что исследуемая база данных отражает растущую популярность удалённой работы. Доля остальных видов занятости в базе данных пренебрежительно мала.\n",
        "\n",
        "- Около половины (53%) вакансий в базе данных рассчитаны на специалистов с опытом работы от одного до трёх лет. Намного меньше (около 32%) - на\n",
        "  людей с опытом работы от трёх до шести лет. Очевидно желание большинства работодателей нанимать как можно больше \"молодых\" (с точки зрения стажа), но не совсем неопытных сотрудников. Скорее всего, это объясняется желанием работодателей платить меньшую зарплату - чем менее опытен работник, тем меньшей зарплаты он будет требовать. Однако при опыте работы меньше года, желание сэкономить на зарплате резко уступает недоверию неопытному сотруднику.\n",
        "\n",
        "- Крупнейшим по количеству открытых вакансий работодателем в базе данных является \"Яндекс\". За ним идут (в порядке убывания) \"Ростелеком\", \n",
        "  \"Тинькофф\", \"СБЕР\" и \"Газпром нефть\". Эта пятёрка также является крупнейшей (в точно таком же порядке) по количеству регионов, в которых они размещают свои вакансии. Очевидно, крупнейшие работодатели равномерно распределяют свои вакансии по регионам, как следствие своего расширения через сети филиалов по всей территории страны.\n",
        "\n",
        "- У около 20% у работодателей в базе данных по какой-то причине отсутствует информация об их сфере деятельности. Это достаточно большое количество,\n",
        "  чтобы привести к искажениям при использовании данной версии базы данных для какого-либо анализа сфер деятельности работодателей. Я рекомендую провести работу по заполнению пропусков в этом признаке, если вы хотите использовать предлагаемые данные для серьёзного исследования.\n",
        "\n",
        "- Всего лишь около четверти всех вакансий, открытых \"Яндексом\" (крупнейшим работодателем), были открыты в городах-миллионниках - т.е. абсолютное их \n",
        "  большинство относятся к менее крупным городам. Скорее всего, это значит, что все рабочие места в филиалах компании, находящиеся в \"миллионниках\", уже заняты, а основная причина потребности в новых специалистах для работодателя в настоящее время - расширение компании в города со средней или маленькой численностью населения.\n",
        "\n",
        "- Труд специалистов по работе с данными в настоящее время всё ещё высоко ценится. Уже для тех из них, кто обладает опытом работы от одного года\n",
        "  до трёх лет, предлагаемая заработная плата в среднем составляет 140 тысяч рублей, что заметно больше среднего максимума предлагаемых по всей базе данных зарплат (110.5 тысяч рублей). А средняя заработная плата, предлагаемая дата саентистам, имеющим опыт работы от трёх до шести лет (243 тысячи рублей), превышает средний максимум для всех сфер деятельности более, чем в два раза. "
      ]
    },
    {
      "attachments": {},
      "cell_type": "markdown",
      "id": "618c4bc4",
      "metadata": {},
      "source": [
        "# Дополнительное исследование\n",
        "\n",
        "В качестве бонуса прикладываю исследование того, к каким ещё странам, помимо России, можно применить результаты вышеприведённого исследования. Наличие в списке регионов Алматы и Минска и здравый смысл позволяют предположить, что работодателям, пользующимся hh.ru, могут быть необходимы вакансии не только в России, но и в странах ближнего зарубежья. К ближнему зарубежью обычно относят республики бывшего СССР и иногда Финляндию (из-за близости к Санкт-Петербургу и наличия в этой стране русской диаспоры). Я буду считать представленными на сайте hh.ru в статистически значимом количестве те страны, в столицах которых были открыты вакансии в количестве не меньшем, чем один процент от всего объёма базы данных (что будет равно: 49 000 / 100 = 490)."
      ]
    },
    {
      "cell_type": "code",
      "execution_count": 57,
      "id": "260cafe8",
      "metadata": {},
      "outputs": [
        {
          "name": "stderr",
          "output_type": "stream",
          "text": [
            "C:\\Users\\Dmitriy\\AppData\\Local\\Temp\\ipykernel_2892\\2358668274.py:16: UserWarning: pandas only supports SQLAlchemy connectable (engine/connection) or database string URI or sqlite3 DBAPI2 connection. Other DBAPI2 objects are not tested. Please consider using SQLAlchemy.\n",
            "  result = pd.read_sql_query(query_1_bonus, connection)\n"
          ]
        },
        {
          "data": {
            "text/html": [
              "<div>\n",
              "<style scoped>\n",
              "    .dataframe tbody tr th:only-of-type {\n",
              "        vertical-align: middle;\n",
              "    }\n",
              "\n",
              "    .dataframe tbody tr th {\n",
              "        vertical-align: top;\n",
              "    }\n",
              "\n",
              "    .dataframe thead th {\n",
              "        text-align: right;\n",
              "    }\n",
              "</style>\n",
              "<table border=\"1\" class=\"dataframe\">\n",
              "  <thead>\n",
              "    <tr style=\"text-align: right;\">\n",
              "      <th></th>\n",
              "      <th>name</th>\n",
              "      <th>count</th>\n",
              "    </tr>\n",
              "  </thead>\n",
              "  <tbody>\n",
              "    <tr>\n",
              "      <th>0</th>\n",
              "      <td>Минск</td>\n",
              "      <td>2112</td>\n",
              "    </tr>\n",
              "    <tr>\n",
              "      <th>1</th>\n",
              "      <td>Алматы</td>\n",
              "      <td>1892</td>\n",
              "    </tr>\n",
              "    <tr>\n",
              "      <th>2</th>\n",
              "      <td>Ташкент</td>\n",
              "      <td>851</td>\n",
              "    </tr>\n",
              "  </tbody>\n",
              "</table>\n",
              "</div>"
            ],
            "text/plain": [
              "      name  count\n",
              "0    Минск   2112\n",
              "1   Алматы   1892\n",
              "2  Ташкент    851"
            ]
          },
          "execution_count": 57,
          "metadata": {},
          "output_type": "execute_result"
        }
      ],
      "source": [
        "closest_capitals = ('Киев', 'Минск', 'Алматы', 'Хельсинки', 'Бишкек', 'Душанбе', 'Ташкент',\n",
        "                    'Ашхабад', 'Баку', 'Ереван', 'Тбилиси', 'Таллин', 'Рига', 'Вильнюс', 'Кишинёв')\n",
        "\n",
        "query_bonus = f'''SELECT \n",
        "                  a.name,\n",
        "                  COUNT(v.id)\n",
        "             FROM \n",
        "                  public.vacancies v\n",
        "                  JOIN public.areas a ON v.area_id = a.id\n",
        "             WHERE a.name IN {closest_capitals}\n",
        "             GROUP BY a.name\n",
        "             HAVING COUNT(v.id) >= 490\n",
        "             ORDER BY COUNT(v.id) DESC\n",
        "             '''\n",
        "             \n",
        "result = pd.read_sql_query(query_bonus, connection)\n",
        "\n",
        "result"
      ]
    },
    {
      "attachments": {},
      "cell_type": "markdown",
      "id": "05f83e29",
      "metadata": {},
      "source": [
        "Итак, в БД в статистически значимом количестве содержится информация о вакансиях ещё в трёх странах, помимо России - в Белоруссии (Минск), \n",
        "Казахстане (Алматы) и Узбекистане (Ташкент). Это вполне естественно объясняется общим советским прошлым России с этими странами, всё ещё дающим о себе знать в экономических связях, уровне взаимной иммиграции, и распространённости русского языка в них. Для данного исследования же это будет значить, что его результаты, правда скорее всего - с некоторыми поправками, возможно будут применимы не только для России, но также и для этих трёх стран. "
      ]
    }
  ],
  "metadata": {
    "colab": {
      "collapsed_sections": [
        "8d62a9f3-f64e-4fe7-bdac-c4dffa16155e"
      ],
      "provenance": []
    },
    "kernelspec": {
      "display_name": "Python 3 (ipykernel)",
      "language": "python",
      "name": "python3"
    },
    "language_info": {
      "codemirror_mode": {
        "name": "ipython",
        "version": 3
      },
      "file_extension": ".py",
      "mimetype": "text/x-python",
      "name": "python",
      "nbconvert_exporter": "python",
      "pygments_lexer": "ipython3",
      "version": "3.9.11"
    }
  },
  "nbformat": 4,
  "nbformat_minor": 5
}
